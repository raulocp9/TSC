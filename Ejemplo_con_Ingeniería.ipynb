{
  "cells": [
    {
      "cell_type": "markdown",
      "metadata": {
        "id": "view-in-github",
        "colab_type": "text"
      },
      "source": [
        "<a href=\"https://colab.research.google.com/github/raulocp9/TSC/blob/master/Ejemplo_con_Ingenier%C3%ADa.ipynb\" target=\"_parent\"><img src=\"https://colab.research.google.com/assets/colab-badge.svg\" alt=\"Open In Colab\"/></a>"
      ]
    },
    {
      "cell_type": "code",
      "execution_count": null,
      "metadata": {
        "id": "fP5mPRbRlQQc",
        "outputId": "f85db02c-162e-4d02-92b4-d38781617214"
      },
      "outputs": [
        {
          "data": {
            "text/html": [
              "        <script type=\"text/javascript\">\n",
              "        window.PlotlyConfig = {MathJaxConfig: 'local'};\n",
              "        if (window.MathJax && window.MathJax.Hub && window.MathJax.Hub.Config) {window.MathJax.Hub.Config({SVG: {font: \"STIX-Web\"}});}\n",
              "        if (typeof require !== 'undefined') {\n",
              "        require.undef(\"plotly\");\n",
              "        requirejs.config({\n",
              "            paths: {\n",
              "                'plotly': ['https://cdn.plot.ly/plotly-2.18.0.min']\n",
              "            }\n",
              "        });\n",
              "        require(['plotly'], function(Plotly) {\n",
              "            window._Plotly = Plotly;\n",
              "        });\n",
              "        }\n",
              "        </script>\n",
              "        "
            ]
          },
          "metadata": {},
          "output_type": "display_data"
        }
      ],
      "source": [
        "import numpy as np\n",
        "import pandas as pd\n",
        "\n",
        "from sklearn.linear_model import LogisticRegression\n",
        "from sklearn.model_selection import train_test_split\n",
        "from sklearn.model_selection import GridSearchCV\n",
        "from sklearn.feature_selection import SelectKBest\n",
        "from sklearn.preprocessing import StandardScaler,MinMaxScaler\n",
        "from sklearn.decomposition import PCA\n",
        "from sklearn.pipeline import make_pipeline\n",
        "from sklearn.metrics import mean_absolute_error,mean_squared_error,mean_absolute_percentage_error\n",
        "from sklearn.feature_selection import f_regression\n",
        "from sklearn.neural_network import MLPRegressor\n",
        "\n",
        "from varclushi import VarClusHi\n",
        "from scipy import stats\n",
        "\n",
        "import matplotlib.pyplot as plt\n",
        "import seaborn as sns \n",
        "import cufflinks as cf\n",
        "\n",
        "from glob import glob\n",
        "\n",
        "from functools import reduce\n",
        "from itertools import combinations\n",
        "cf.go_offline()\n",
        "pd.set_option('display.max_columns',None)"
      ]
    },
    {
      "cell_type": "markdown",
      "metadata": {
        "id": "XUiUO5vflQQd"
      },
      "source": [
        "## Carga de datos"
      ]
    },
    {
      "cell_type": "code",
      "execution_count": null,
      "metadata": {
        "id": "YKJxp-WglQQf"
      },
      "outputs": [],
      "source": [
        "ruta = '/media/jose/090f6b94-de30-4aaf-9f8a-4e18b120d7f6/bd/stocks/full_history/*.csv'"
      ]
    },
    {
      "cell_type": "code",
      "execution_count": null,
      "metadata": {
        "id": "47XB3VTmlQQf"
      },
      "outputs": [],
      "source": [
        "archivos = sorted(glob(ruta))"
      ]
    },
    {
      "cell_type": "code",
      "execution_count": null,
      "metadata": {
        "id": "hN7rjdsrlQQg"
      },
      "outputs": [],
      "source": [
        "muestra = np.random.choice(archivos,size=int(len(archivos)*0.03),replace=False)"
      ]
    },
    {
      "cell_type": "code",
      "execution_count": null,
      "metadata": {
        "id": "wmS8kmgKlQQg"
      },
      "outputs": [],
      "source": [
        "len(muestra)"
      ]
    },
    {
      "cell_type": "code",
      "execution_count": null,
      "metadata": {
        "id": "Jcm6oj_FlQQg"
      },
      "outputs": [],
      "source": [
        "arch = muestra[0]\n",
        "arch"
      ]
    },
    {
      "cell_type": "code",
      "execution_count": null,
      "metadata": {
        "id": "cv6x_K5YlQQh"
      },
      "outputs": [],
      "source": [
        "def leerArchivo(arch:str)->pd.DataFrame:\n",
        "    df = pd.read_csv(arch).drop('adjclose',axis=1)\n",
        "    df['date'] = pd.to_datetime(df['date'],format='%Y-%m-%d',errors='coerce')\n",
        "    nombre = arch.split('/')[-1].split('.')[0]\n",
        "    df.insert(0,'stock',nombre)\n",
        "    return df\n"
      ]
    },
    {
      "cell_type": "code",
      "execution_count": null,
      "metadata": {
        "id": "RTAmsrlNlQQh"
      },
      "outputs": [],
      "source": [
        "datos = pd.concat(map(leerArchivo,muestra),ignore_index=True).drop_duplicates().reset_index(drop=True)"
      ]
    },
    {
      "cell_type": "markdown",
      "metadata": {
        "id": "qiKiKXEVlQQh"
      },
      "source": [
        "## Ingeniería de características"
      ]
    },
    {
      "cell_type": "code",
      "execution_count": null,
      "metadata": {
        "id": "jl9jtR6LlQQh"
      },
      "outputs": [],
      "source": [
        "catfh = datos[['date']].drop_duplicates().sort_values(by='date').reset_index(drop=True)\n",
        "catfh['sem'] = catfh['date'].map(lambda x:x.strftime('%Y%U'))\n",
        "catfh = catfh[['sem']].drop_duplicates().sort_values(by='sem',ascending=False).reset_index(drop=True)\n",
        "catfh['id_sem'] = catfh.index+1\n",
        "catfh"
      ]
    },
    {
      "cell_type": "code",
      "execution_count": null,
      "metadata": {
        "id": "JQFRNKFZlQQh"
      },
      "outputs": [],
      "source": [
        "datos['sem'] = datos['date'].map(lambda x:x.strftime('%Y%U'))\n",
        "datos = datos.merge(catfh,on='sem',how='inner').drop('sem',axis=1)"
      ]
    },
    {
      "cell_type": "code",
      "execution_count": null,
      "metadata": {
        "id": "p6CyKurblQQi"
      },
      "outputs": [],
      "source": [
        "datos = datos[datos['id_sem']<=120].reset_index(drop=True)"
      ]
    },
    {
      "cell_type": "code",
      "execution_count": null,
      "metadata": {
        "id": "YgP4NtSVlQQi"
      },
      "outputs": [],
      "source": [
        "datos.shape"
      ]
    },
    {
      "cell_type": "code",
      "execution_count": null,
      "metadata": {
        "id": "kX6SHXfDlQQi"
      },
      "outputs": [],
      "source": [
        "datos[['id_sem','open']].groupby('id_sem').count().iplot(kind='line',color='purple')"
      ]
    },
    {
      "cell_type": "code",
      "execution_count": null,
      "metadata": {
        "id": "5Y8YkK4SlQQi"
      },
      "outputs": [],
      "source": [
        "vobs,vdes = 4,1\n",
        "ini, fin = datos['id_sem'].min(),datos['id_sem'].max()\n",
        "anclai,anclaf = ini+vdes,fin-vobs+1\n",
        "anclai,anclaf "
      ]
    },
    {
      "cell_type": "code",
      "execution_count": null,
      "metadata": {
        "id": "TjrPCdBplQQi"
      },
      "outputs": [],
      "source": [
        "for ancla in range(anclai,anclaf+1):\n",
        "    print(f\"Para predecir el ancla {ancla-vdes} voy a usar la ventana {list(range(ancla,ancla+vobs))}\")"
      ]
    },
    {
      "cell_type": "markdown",
      "metadata": {
        "id": "7F58CO4_lQQi"
      },
      "source": [
        "### Matriz de predictoras $\\mathcal{X}$"
      ]
    },
    {
      "cell_type": "code",
      "execution_count": null,
      "metadata": {
        "id": "KknIypvNlQQi"
      },
      "outputs": [],
      "source": [
        "var = ['volume','open','high','low','close','dif']"
      ]
    },
    {
      "cell_type": "code",
      "execution_count": null,
      "metadata": {
        "id": "93Ghvij0lQQj"
      },
      "outputs": [],
      "source": [
        "datos['dif'] = datos['high']-datos['low']"
      ]
    },
    {
      "cell_type": "code",
      "execution_count": null,
      "metadata": {
        "id": "HtWGHZrClQQj"
      },
      "outputs": [],
      "source": [
        "for u,v in combinations(var,2):\n",
        "    nombre = f'ratio_{u}_{v}'\n",
        "    datos[nombre] = datos[v]/datos[u]\n",
        "    var.append(nombre)"
      ]
    },
    {
      "cell_type": "code",
      "execution_count": null,
      "metadata": {
        "id": "1k9nwC3blQQj"
      },
      "outputs": [],
      "source": [
        "def ingX(datos:pd.DataFrame,ancla:int)->pd.DataFrame:\n",
        "    aux = datos[(datos['id_sem']>=ancla)&(datos['id_sem']<=(ancla+vobs-1))].copy().reset_index(drop=True)\n",
        "    funciones = [np.min,np.max,np.median,np.mean]\n",
        "    nombres = ['min','max','mediana','media']\n",
        "    l = []\n",
        "    for f,n in zip(funciones,nombres):\n",
        "        agg = aux.drop('date',axis=1).groupby('stock').agg({v:f for v in var})\n",
        "        agg.columns = [f'x_{n}_{c}' for c in agg.columns]\n",
        "        l.append(agg.reset_index())\n",
        "    aux = reduce(lambda x,y:x.merge(y,on='stock',how='outer'),l)\n",
        "    aux.insert(1,'ancla',ancla)\n",
        "    return aux"
      ]
    },
    {
      "cell_type": "code",
      "execution_count": null,
      "metadata": {
        "id": "purvRyU-lQQj"
      },
      "outputs": [],
      "source": [
        "um = ['stock','ancla']"
      ]
    },
    {
      "cell_type": "code",
      "execution_count": null,
      "metadata": {
        "id": "zU9ksL_XlQQj"
      },
      "outputs": [],
      "source": [
        "X = pd.concat(map(lambda ancla:ingX(datos,ancla),range(anclai,anclaf+1)),ignore_index=True)"
      ]
    },
    {
      "cell_type": "markdown",
      "metadata": {
        "id": "rVUt72C3lQQj"
      },
      "source": [
        "### Variable objetivo $\\vec{y}$"
      ]
    },
    {
      "cell_type": "code",
      "execution_count": null,
      "metadata": {
        "id": "zU3s_czTlQQk"
      },
      "outputs": [],
      "source": [
        "def ingy(datos:pd.DataFrame,ancla:int)->pd.DataFrame:\n",
        "    aux = datos[(datos['id_sem']==(ancla-vdes))].copy().reset_index(drop=True)\n",
        "    aux = aux[['stock','close']].groupby('stock').max().reset_index().rename(columns={'close':'target'})\n",
        "    aux.insert(1,'ancla',ancla)\n",
        "    return aux"
      ]
    },
    {
      "cell_type": "code",
      "execution_count": null,
      "metadata": {
        "id": "cNR9HLQ-lQQk"
      },
      "outputs": [],
      "source": [
        "y = pd.concat(map(lambda ancla:ingy(datos,ancla),range(anclai,anclaf+1)),ignore_index=True)"
      ]
    },
    {
      "cell_type": "markdown",
      "metadata": {
        "id": "bm3k39qTlQQk"
      },
      "source": [
        "### Tabla Analítica de Datos (TAD), $S_n = \\{(x^{(i)},y^{(i)}),i=1,\\ldots,n\\}$"
      ]
    },
    {
      "cell_type": "code",
      "execution_count": null,
      "metadata": {
        "id": "KlienIu1lQQl"
      },
      "outputs": [],
      "source": [
        "Sn = X.merge(y,on=um,how='inner')\n",
        "Sn.shape"
      ]
    },
    {
      "cell_type": "code",
      "execution_count": null,
      "metadata": {
        "id": "YBRScY-glQQl"
      },
      "outputs": [],
      "source": [
        "Sn.head()"
      ]
    },
    {
      "cell_type": "code",
      "execution_count": null,
      "metadata": {
        "id": "miQDXVEolQQl"
      },
      "outputs": [],
      "source": [
        "Sn.to_parquet('Sn.parquet')"
      ]
    },
    {
      "cell_type": "code",
      "execution_count": null,
      "metadata": {
        "id": "AhBvhOnclQQl"
      },
      "outputs": [],
      "source": [
        "Sn.to_pickle('Sn.pickle')"
      ]
    },
    {
      "cell_type": "code",
      "execution_count": null,
      "metadata": {
        "id": "rMEnIktMlQQl"
      },
      "outputs": [],
      "source": [
        "Sn = pd.read_pickle('Sn.pickle')"
      ]
    },
    {
      "cell_type": "markdown",
      "metadata": {
        "id": "maEh1XRVlQQl"
      },
      "source": [
        "### Partición"
      ]
    },
    {
      "cell_type": "code",
      "execution_count": null,
      "metadata": {
        "id": "iX43ZEevlQQl",
        "outputId": "b8bd6f57-e914-4c4b-8d65-2db2b270f7ed"
      },
      "outputs": [
        {
          "data": {
            "text/plain": [
              "((15475, 87), (6633, 87))"
            ]
          },
          "execution_count": 65,
          "metadata": {},
          "output_type": "execute_result"
        }
      ],
      "source": [
        "train, valid = train_test_split(Sn,train_size=0.7)\n",
        "train.reset_index(drop=True,inplace=True),valid.reset_index(drop=True,inplace=True)\n",
        "train.shape,valid.shape"
      ]
    },
    {
      "cell_type": "markdown",
      "metadata": {
        "id": "LHpuopvdlQQm"
      },
      "source": [
        "## Análisis Exploratorio de datos"
      ]
    },
    {
      "cell_type": "markdown",
      "metadata": {
        "id": "1FKXl4JSlQQm"
      },
      "source": [
        "### Reducción de dimensiones"
      ]
    },
    {
      "cell_type": "markdown",
      "metadata": {
        "id": "xCJSrOqHlQQm"
      },
      "source": [
        "#### Multicolinealidad"
      ]
    },
    {
      "cell_type": "code",
      "execution_count": null,
      "metadata": {
        "id": "NeYCWlPJlQQm",
        "outputId": "c482039d-93c8-41bd-c894-bb0d91742cf3"
      },
      "outputs": [
        {
          "data": {
            "text/plain": [
              "84"
            ]
          },
          "execution_count": 66,
          "metadata": {},
          "output_type": "execute_result"
        }
      ],
      "source": [
        "var = sorted(train.filter(like='x_').columns)\n",
        "len(var)"
      ]
    },
    {
      "cell_type": "code",
      "execution_count": null,
      "metadata": {
        "id": "8BYnN4t9lQQm"
      },
      "outputs": [],
      "source": [
        "vc = VarClusHi(df=train,feat_list=var).varclus()"
      ]
    },
    {
      "cell_type": "code",
      "execution_count": null,
      "metadata": {
        "id": "9N9KWHlilQQn",
        "outputId": "47554c8d-d23f-4b1c-8b75-21f7b96acd6b"
      },
      "outputs": [
        {
          "data": {
            "text/html": [
              "<div>\n",
              "<style scoped>\n",
              "    .dataframe tbody tr th:only-of-type {\n",
              "        vertical-align: middle;\n",
              "    }\n",
              "\n",
              "    .dataframe tbody tr th {\n",
              "        vertical-align: top;\n",
              "    }\n",
              "\n",
              "    .dataframe thead th {\n",
              "        text-align: right;\n",
              "    }\n",
              "</style>\n",
              "<table border=\"1\" class=\"dataframe\">\n",
              "  <thead>\n",
              "    <tr style=\"text-align: right;\">\n",
              "      <th></th>\n",
              "      <th>Cluster</th>\n",
              "      <th>Variable</th>\n",
              "      <th>RS_Own</th>\n",
              "      <th>RS_NC</th>\n",
              "      <th>RS_Ratio</th>\n",
              "    </tr>\n",
              "  </thead>\n",
              "  <tbody>\n",
              "    <tr>\n",
              "      <th>0</th>\n",
              "      <td>0</td>\n",
              "      <td>x_media_ratio_close_dif</td>\n",
              "      <td>0.993352</td>\n",
              "      <td>0.789691</td>\n",
              "      <td>0.031613</td>\n",
              "    </tr>\n",
              "    <tr>\n",
              "      <th>1</th>\n",
              "      <td>0</td>\n",
              "      <td>x_media_ratio_high_close</td>\n",
              "      <td>0.942302</td>\n",
              "      <td>0.699843</td>\n",
              "      <td>0.192226</td>\n",
              "    </tr>\n",
              "    <tr>\n",
              "      <th>2</th>\n",
              "      <td>0</td>\n",
              "      <td>x_media_ratio_high_dif</td>\n",
              "      <td>0.993826</td>\n",
              "      <td>0.752258</td>\n",
              "      <td>0.024922</td>\n",
              "    </tr>\n",
              "    <tr>\n",
              "      <th>3</th>\n",
              "      <td>0</td>\n",
              "      <td>x_media_ratio_high_low</td>\n",
              "      <td>0.993826</td>\n",
              "      <td>0.752258</td>\n",
              "      <td>0.024922</td>\n",
              "    </tr>\n",
              "    <tr>\n",
              "      <th>4</th>\n",
              "      <td>0</td>\n",
              "      <td>x_media_ratio_low_close</td>\n",
              "      <td>0.881238</td>\n",
              "      <td>0.782164</td>\n",
              "      <td>0.545191</td>\n",
              "    </tr>\n",
              "    <tr>\n",
              "      <th>...</th>\n",
              "      <td>...</td>\n",
              "      <td>...</td>\n",
              "      <td>...</td>\n",
              "      <td>...</td>\n",
              "      <td>...</td>\n",
              "    </tr>\n",
              "    <tr>\n",
              "      <th>79</th>\n",
              "      <td>8</td>\n",
              "      <td>x_max_ratio_open_low</td>\n",
              "      <td>0.496123</td>\n",
              "      <td>0.166155</td>\n",
              "      <td>0.604282</td>\n",
              "    </tr>\n",
              "    <tr>\n",
              "      <th>80</th>\n",
              "      <td>8</td>\n",
              "      <td>x_min_ratio_low_close</td>\n",
              "      <td>0.589321</td>\n",
              "      <td>0.263371</td>\n",
              "      <td>0.557512</td>\n",
              "    </tr>\n",
              "    <tr>\n",
              "      <th>81</th>\n",
              "      <td>8</td>\n",
              "      <td>x_min_ratio_open_high</td>\n",
              "      <td>0.719156</td>\n",
              "      <td>0.131583</td>\n",
              "      <td>0.323397</td>\n",
              "    </tr>\n",
              "    <tr>\n",
              "      <th>82</th>\n",
              "      <td>9</td>\n",
              "      <td>x_mediana_ratio_open_close</td>\n",
              "      <td>1.000000</td>\n",
              "      <td>0.517958</td>\n",
              "      <td>0.000000</td>\n",
              "    </tr>\n",
              "    <tr>\n",
              "      <th>83</th>\n",
              "      <td>10</td>\n",
              "      <td>x_media_ratio_open_close</td>\n",
              "      <td>1.000000</td>\n",
              "      <td>0.517958</td>\n",
              "      <td>0.000000</td>\n",
              "    </tr>\n",
              "  </tbody>\n",
              "</table>\n",
              "<p>84 rows × 5 columns</p>\n",
              "</div>"
            ],
            "text/plain": [
              "    Cluster                    Variable    RS_Own     RS_NC  RS_Ratio\n",
              "0         0     x_media_ratio_close_dif  0.993352  0.789691  0.031613\n",
              "1         0    x_media_ratio_high_close  0.942302  0.699843  0.192226\n",
              "2         0      x_media_ratio_high_dif  0.993826  0.752258  0.024922\n",
              "3         0      x_media_ratio_high_low  0.993826  0.752258  0.024922\n",
              "4         0     x_media_ratio_low_close  0.881238  0.782164  0.545191\n",
              "..      ...                         ...       ...       ...       ...\n",
              "79        8        x_max_ratio_open_low  0.496123  0.166155  0.604282\n",
              "80        8       x_min_ratio_low_close  0.589321  0.263371  0.557512\n",
              "81        8       x_min_ratio_open_high  0.719156  0.131583  0.323397\n",
              "82        9  x_mediana_ratio_open_close  1.000000  0.517958  0.000000\n",
              "83       10    x_media_ratio_open_close  1.000000  0.517958  0.000000\n",
              "\n",
              "[84 rows x 5 columns]"
            ]
          },
          "execution_count": 68,
          "metadata": {},
          "output_type": "execute_result"
        }
      ],
      "source": [
        "vc.rsquare"
      ]
    },
    {
      "cell_type": "code",
      "execution_count": null,
      "metadata": {
        "id": "pKF4QD7vlQQn"
      },
      "outputs": [],
      "source": [
        "var = list(vc.rsquare.sort_values(by=['Cluster','RS_Ratio']).groupby('Cluster').first()['Variable'])"
      ]
    },
    {
      "cell_type": "code",
      "execution_count": null,
      "metadata": {
        "id": "e08Ycl09lQQn",
        "outputId": "7ae31551-5fa4-4015-fa30-bdc9d4d0c45d"
      },
      "outputs": [
        {
          "data": {
            "text/plain": [
              "11"
            ]
          },
          "execution_count": 70,
          "metadata": {},
          "output_type": "execute_result"
        }
      ],
      "source": [
        "len(var)"
      ]
    },
    {
      "cell_type": "code",
      "execution_count": null,
      "metadata": {
        "id": "mlOKsTcalQQn",
        "outputId": "103abd9d-af06-49f8-eb76-6b6eea116f71"
      },
      "outputs": [
        {
          "data": {
            "text/plain": [
              "['x_media_ratio_high_low',\n",
              " 'x_min_ratio_volume_high',\n",
              " 'x_media_open',\n",
              " 'x_max_ratio_volume_open',\n",
              " 'x_media_volume',\n",
              " 'x_min_ratio_open_dif',\n",
              " 'x_media_ratio_volume_dif',\n",
              " 'x_max_ratio_open_dif',\n",
              " 'x_min_ratio_open_high',\n",
              " 'x_mediana_ratio_open_close',\n",
              " 'x_media_ratio_open_close']"
            ]
          },
          "execution_count": 71,
          "metadata": {},
          "output_type": "execute_result"
        }
      ],
      "source": [
        "var"
      ]
    },
    {
      "cell_type": "markdown",
      "metadata": {
        "id": "F18WPMlvlQQn"
      },
      "source": [
        "### Análisis Univariado"
      ]
    },
    {
      "cell_type": "markdown",
      "metadata": {
        "id": "eEjMur8rlQQn"
      },
      "source": [
        "#### Continuo"
      ]
    },
    {
      "cell_type": "markdown",
      "metadata": {
        "id": "nVCfr7tjlQQn"
      },
      "source": [
        "##### Distribución"
      ]
    },
    {
      "cell_type": "code",
      "execution_count": null,
      "metadata": {
        "id": "6a4BNVMKlQQn",
        "outputId": "092f7482-67fb-42ad-8793-9546d02b0d41"
      },
      "outputs": [
        {
          "data": {
            "text/plain": [
              "array([[<Axes: title={'center': 'x_media_ratio_high_low'}>,\n",
              "        <Axes: title={'center': 'x_min_ratio_volume_high'}>,\n",
              "        <Axes: title={'center': 'x_media_open'}>],\n",
              "       [<Axes: title={'center': 'x_max_ratio_volume_open'}>,\n",
              "        <Axes: title={'center': 'x_media_volume'}>,\n",
              "        <Axes: title={'center': 'x_min_ratio_open_dif'}>],\n",
              "       [<Axes: title={'center': 'x_media_ratio_volume_dif'}>,\n",
              "        <Axes: title={'center': 'x_max_ratio_open_dif'}>,\n",
              "        <Axes: title={'center': 'x_min_ratio_open_high'}>],\n",
              "       [<Axes: title={'center': 'x_mediana_ratio_open_close'}>,\n",
              "        <Axes: title={'center': 'x_media_ratio_open_close'}>, <Axes: >]],\n",
              "      dtype=object)"
            ]
          },
          "execution_count": 72,
          "metadata": {},
          "output_type": "execute_result"
        },
        {
          "data": {
            "image/png": "[encoded data removed]",
            "text/plain": [
              "<Figure size 700x700 with 12 Axes>"
            ]
          },
          "metadata": {},
          "output_type": "display_data"
        }
      ],
      "source": [
        "train[var].hist(figsize=(7,7))"
      ]
    },
    {
      "cell_type": "markdown",
      "metadata": {
        "id": "-NZWk4k6lQQo"
      },
      "source": [
        "##### Ausentes"
      ]
    },
    {
      "cell_type": "code",
      "execution_count": null,
      "metadata": {
        "id": "52vpvlVplQQo",
        "outputId": "0c79eaa7-dde4-4d40-8345-96133958a926"
      },
      "outputs": [
        {
          "data": {
            "text/html": [
              "<div>\n",
              "<style scoped>\n",
              "    .dataframe tbody tr th:only-of-type {\n",
              "        vertical-align: middle;\n",
              "    }\n",
              "\n",
              "    .dataframe tbody tr th {\n",
              "        vertical-align: top;\n",
              "    }\n",
              "\n",
              "    .dataframe thead th {\n",
              "        text-align: right;\n",
              "    }\n",
              "</style>\n",
              "<table border=\"1\" class=\"dataframe\">\n",
              "  <thead>\n",
              "    <tr style=\"text-align: right;\">\n",
              "      <th></th>\n",
              "      <th>0</th>\n",
              "    </tr>\n",
              "  </thead>\n",
              "  <tbody>\n",
              "    <tr>\n",
              "      <th>x_media_ratio_high_low</th>\n",
              "      <td>0.0</td>\n",
              "    </tr>\n",
              "    <tr>\n",
              "      <th>x_min_ratio_volume_high</th>\n",
              "      <td>0.0</td>\n",
              "    </tr>\n",
              "    <tr>\n",
              "      <th>x_media_open</th>\n",
              "      <td>0.0</td>\n",
              "    </tr>\n",
              "    <tr>\n",
              "      <th>x_max_ratio_volume_open</th>\n",
              "      <td>0.0</td>\n",
              "    </tr>\n",
              "    <tr>\n",
              "      <th>x_media_volume</th>\n",
              "      <td>0.0</td>\n",
              "    </tr>\n",
              "    <tr>\n",
              "      <th>x_min_ratio_open_dif</th>\n",
              "      <td>0.0</td>\n",
              "    </tr>\n",
              "    <tr>\n",
              "      <th>x_media_ratio_volume_dif</th>\n",
              "      <td>0.0</td>\n",
              "    </tr>\n",
              "    <tr>\n",
              "      <th>x_max_ratio_open_dif</th>\n",
              "      <td>0.0</td>\n",
              "    </tr>\n",
              "    <tr>\n",
              "      <th>x_min_ratio_open_high</th>\n",
              "      <td>0.0</td>\n",
              "    </tr>\n",
              "    <tr>\n",
              "      <th>x_mediana_ratio_open_close</th>\n",
              "      <td>0.0</td>\n",
              "    </tr>\n",
              "    <tr>\n",
              "      <th>x_media_ratio_open_close</th>\n",
              "      <td>0.0</td>\n",
              "    </tr>\n",
              "  </tbody>\n",
              "</table>\n",
              "</div>"
            ],
            "text/plain": [
              "                              0\n",
              "x_media_ratio_high_low      0.0\n",
              "x_min_ratio_volume_high     0.0\n",
              "x_media_open                0.0\n",
              "x_max_ratio_volume_open     0.0\n",
              "x_media_volume              0.0\n",
              "x_min_ratio_open_dif        0.0\n",
              "x_media_ratio_volume_dif    0.0\n",
              "x_max_ratio_open_dif        0.0\n",
              "x_min_ratio_open_high       0.0\n",
              "x_mediana_ratio_open_close  0.0\n",
              "x_media_ratio_open_close    0.0"
            ]
          },
          "execution_count": 73,
          "metadata": {},
          "output_type": "execute_result"
        }
      ],
      "source": [
        "(train[var].isna().sum()/len(train)).to_frame()"
      ]
    },
    {
      "cell_type": "markdown",
      "metadata": {
        "id": "17cYRIM0lQQo"
      },
      "source": [
        "##### Extremos"
      ]
    },
    {
      "cell_type": "code",
      "execution_count": null,
      "metadata": {
        "id": "2whSjJvxlQQo"
      },
      "outputs": [],
      "source": [
        "for v,li,ls in train[var].describe(percentiles=[0.01,0.99]).T[['1%','99%']].reset_index().values:\n",
        "    train[f'ex_{v}'] = ((train[v]<li)|(train[v]>ls)).astype(int)"
      ]
    },
    {
      "cell_type": "code",
      "execution_count": null,
      "metadata": {
        "id": "pqJ28-KtlQQo"
      },
      "outputs": [],
      "source": [
        "train['ex_'] = train.filter(like='ex_').max(axis=1)"
      ]
    },
    {
      "cell_type": "code",
      "execution_count": null,
      "metadata": {
        "id": "qHbXRPyolQQo",
        "outputId": "9c61aa8b-fce7-4fcd-e881-485187245f05"
      },
      "outputs": [
        {
          "data": {
            "text/plain": [
              "0    0.899257\n",
              "1    0.100743\n",
              "Name: ex_, dtype: float64"
            ]
          },
          "execution_count": 76,
          "metadata": {},
          "output_type": "execute_result"
        }
      ],
      "source": [
        "train['ex_'].value_counts(1)"
      ]
    },
    {
      "cell_type": "code",
      "execution_count": null,
      "metadata": {
        "id": "wuTwUyUZlQQo"
      },
      "outputs": [],
      "source": [
        "train = train[train['ex_']==0].reset_index(drop=True)"
      ]
    },
    {
      "cell_type": "code",
      "execution_count": null,
      "metadata": {
        "id": "mB6zT8mZlQQo"
      },
      "outputs": [],
      "source": [
        "train.drop(train.filter(like='ex_').columns,axis=1,inplace=True)"
      ]
    },
    {
      "cell_type": "code",
      "execution_count": null,
      "metadata": {
        "id": "57yFMANFlQQo",
        "outputId": "7406efb2-3e6b-40da-e1a6-5ac2306de776"
      },
      "outputs": [
        {
          "data": {
            "text/plain": [
              "array([[<Axes: title={'center': 'x_media_ratio_high_low'}>,\n",
              "        <Axes: title={'center': 'x_min_ratio_volume_high'}>,\n",
              "        <Axes: title={'center': 'x_media_open'}>],\n",
              "       [<Axes: title={'center': 'x_max_ratio_volume_open'}>,\n",
              "        <Axes: title={'center': 'x_media_volume'}>,\n",
              "        <Axes: title={'center': 'x_min_ratio_open_dif'}>],\n",
              "       [<Axes: title={'center': 'x_media_ratio_volume_dif'}>,\n",
              "        <Axes: title={'center': 'x_max_ratio_open_dif'}>,\n",
              "        <Axes: title={'center': 'x_min_ratio_open_high'}>],\n",
              "       [<Axes: title={'center': 'x_mediana_ratio_open_close'}>,\n",
              "        <Axes: title={'center': 'x_media_ratio_open_close'}>, <Axes: >]],\n",
              "      dtype=object)"
            ]
          },
          "execution_count": 79,
          "metadata": {},
          "output_type": "execute_result"
        },
        {
          "data": {
            "image/png": "[encoded data removed]",
            "text/plain": [
              "<Figure size 700x700 with 12 Axes>"
            ]
          },
          "metadata": {},
          "output_type": "display_data"
        }
      ],
      "source": [
        "train[var].hist(figsize=(7,7))"
      ]
    },
    {
      "cell_type": "code",
      "execution_count": null,
      "metadata": {
        "id": "YuXYaxaelQQp",
        "outputId": "482a70ed-d7ba-40b1-8b9b-066b08af9e07"
      },
      "outputs": [
        {
          "data": {
            "text/plain": [
              "<Axes: >"
            ]
          },
          "execution_count": 82,
          "metadata": {},
          "output_type": "execute_result"
        },
        {
          "data": {
            "image/png": "[encoded data removed]",
            "text/plain": [
              "<Figure size 640x480 with 1 Axes>"
            ]
          },
          "metadata": {},
          "output_type": "display_data"
        }
      ],
      "source": [
        "train['target'].hist()"
      ]
    },
    {
      "cell_type": "code",
      "execution_count": null,
      "metadata": {
        "id": "q5rdeB1KlQQp",
        "outputId": "45c8a27d-f6fe-4974-9443-07051af17454"
      },
      "outputs": [
        {
          "data": {
            "text/html": [
              "<div>\n",
              "<style scoped>\n",
              "    .dataframe tbody tr th:only-of-type {\n",
              "        vertical-align: middle;\n",
              "    }\n",
              "\n",
              "    .dataframe tbody tr th {\n",
              "        vertical-align: top;\n",
              "    }\n",
              "\n",
              "    .dataframe thead th {\n",
              "        text-align: right;\n",
              "    }\n",
              "</style>\n",
              "<table border=\"1\" class=\"dataframe\">\n",
              "  <thead>\n",
              "    <tr style=\"text-align: right;\">\n",
              "      <th></th>\n",
              "      <th>x_media_ratio_high_low</th>\n",
              "      <th>x_min_ratio_volume_high</th>\n",
              "      <th>x_media_open</th>\n",
              "      <th>x_max_ratio_volume_open</th>\n",
              "      <th>x_media_volume</th>\n",
              "      <th>x_min_ratio_open_dif</th>\n",
              "      <th>x_media_ratio_volume_dif</th>\n",
              "      <th>x_max_ratio_open_dif</th>\n",
              "      <th>x_min_ratio_open_high</th>\n",
              "      <th>x_mediana_ratio_open_close</th>\n",
              "      <th>x_media_ratio_open_close</th>\n",
              "    </tr>\n",
              "  </thead>\n",
              "  <tbody>\n",
              "    <tr>\n",
              "      <th>count</th>\n",
              "      <td>13916.000000</td>\n",
              "      <td>1.391600e+04</td>\n",
              "      <td>13916.000000</td>\n",
              "      <td>13916.000000</td>\n",
              "      <td>1.391600e+04</td>\n",
              "      <td>13916.000000</td>\n",
              "      <td>1.391600e+04</td>\n",
              "      <td>13916.000000</td>\n",
              "      <td>13916.000000</td>\n",
              "      <td>13916.000000</td>\n",
              "      <td>13916.000000</td>\n",
              "    </tr>\n",
              "    <tr>\n",
              "      <th>mean</th>\n",
              "      <td>0.970794</td>\n",
              "      <td>7.211126e-04</td>\n",
              "      <td>39.486557</td>\n",
              "      <td>0.019981</td>\n",
              "      <td>7.218674e+05</td>\n",
              "      <td>0.011699</td>\n",
              "      <td>4.111856e-05</td>\n",
              "      <td>0.072059</td>\n",
              "      <td>1.000367</td>\n",
              "      <td>0.999271</td>\n",
              "      <td>0.999491</td>\n",
              "    </tr>\n",
              "    <tr>\n",
              "      <th>std</th>\n",
              "      <td>0.024193</td>\n",
              "      <td>2.893994e-03</td>\n",
              "      <td>48.194599</td>\n",
              "      <td>0.064397</td>\n",
              "      <td>1.485080e+06</td>\n",
              "      <td>0.010871</td>\n",
              "      <td>1.511051e-04</td>\n",
              "      <td>0.071949</td>\n",
              "      <td>0.001002</td>\n",
              "      <td>0.005664</td>\n",
              "      <td>0.005484</td>\n",
              "    </tr>\n",
              "    <tr>\n",
              "      <th>min</th>\n",
              "      <td>0.842344</td>\n",
              "      <td>1.569439e-07</td>\n",
              "      <td>0.760000</td>\n",
              "      <td>0.000001</td>\n",
              "      <td>2.500000e+02</td>\n",
              "      <td>0.000000</td>\n",
              "      <td>2.030807e-08</td>\n",
              "      <td>0.001985</td>\n",
              "      <td>1.000000</td>\n",
              "      <td>0.968067</td>\n",
              "      <td>0.972708</td>\n",
              "    </tr>\n",
              "    <tr>\n",
              "      <th>1%</th>\n",
              "      <td>0.888974</td>\n",
              "      <td>4.389183e-07</td>\n",
              "      <td>1.021642</td>\n",
              "      <td>0.000003</td>\n",
              "      <td>6.008333e+02</td>\n",
              "      <td>0.000000</td>\n",
              "      <td>5.697202e-08</td>\n",
              "      <td>0.004002</td>\n",
              "      <td>1.000000</td>\n",
              "      <td>0.979492</td>\n",
              "      <td>0.981932</td>\n",
              "    </tr>\n",
              "    <tr>\n",
              "      <th>5%</th>\n",
              "      <td>0.920577</td>\n",
              "      <td>1.583221e-06</td>\n",
              "      <td>2.626454</td>\n",
              "      <td>0.000010</td>\n",
              "      <td>1.938221e+03</td>\n",
              "      <td>0.000000</td>\n",
              "      <td>1.439786e-07</td>\n",
              "      <td>0.008248</td>\n",
              "      <td>1.000000</td>\n",
              "      <td>0.988678</td>\n",
              "      <td>0.989826</td>\n",
              "    </tr>\n",
              "    <tr>\n",
              "      <th>50%</th>\n",
              "      <td>0.977200</td>\n",
              "      <td>6.248313e-05</td>\n",
              "      <td>23.614577</td>\n",
              "      <td>0.000515</td>\n",
              "      <td>1.437101e+05</td>\n",
              "      <td>0.009155</td>\n",
              "      <td>4.428136e-06</td>\n",
              "      <td>0.050245</td>\n",
              "      <td>1.000000</td>\n",
              "      <td>1.000000</td>\n",
              "      <td>0.999839</td>\n",
              "    </tr>\n",
              "    <tr>\n",
              "      <th>95%</th>\n",
              "      <td>0.996440</td>\n",
              "      <td>3.391280e-03</td>\n",
              "      <td>126.867453</td>\n",
              "      <td>0.137408</td>\n",
              "      <td>3.780005e+06</td>\n",
              "      <td>0.033489</td>\n",
              "      <td>1.847461e-04</td>\n",
              "      <td>0.215142</td>\n",
              "      <td>1.002561</td>\n",
              "      <td>1.007463</td>\n",
              "      <td>1.007988</td>\n",
              "    </tr>\n",
              "    <tr>\n",
              "      <th>99%</th>\n",
              "      <td>0.998655</td>\n",
              "      <td>1.260194e-02</td>\n",
              "      <td>257.871527</td>\n",
              "      <td>0.368857</td>\n",
              "      <td>7.758910e+06</td>\n",
              "      <td>0.049180</td>\n",
              "      <td>6.000529e-04</td>\n",
              "      <td>0.346492</td>\n",
              "      <td>1.005154</td>\n",
              "      <td>1.013574</td>\n",
              "      <td>1.014603</td>\n",
              "    </tr>\n",
              "    <tr>\n",
              "      <th>max</th>\n",
              "      <td>0.999277</td>\n",
              "      <td>5.915000e-02</td>\n",
              "      <td>386.355263</td>\n",
              "      <td>0.677100</td>\n",
              "      <td>1.125867e+07</td>\n",
              "      <td>0.063291</td>\n",
              "      <td>3.859714e-03</td>\n",
              "      <td>0.600000</td>\n",
              "      <td>1.007194</td>\n",
              "      <td>1.018634</td>\n",
              "      <td>1.022130</td>\n",
              "    </tr>\n",
              "  </tbody>\n",
              "</table>\n",
              "</div>"
            ],
            "text/plain": [
              "       x_media_ratio_high_low  x_min_ratio_volume_high  x_media_open  \\\n",
              "count            13916.000000             1.391600e+04  13916.000000   \n",
              "mean                 0.970794             7.211126e-04     39.486557   \n",
              "std                  0.024193             2.893994e-03     48.194599   \n",
              "min                  0.842344             1.569439e-07      0.760000   \n",
              "1%                   0.888974             4.389183e-07      1.021642   \n",
              "5%                   0.920577             1.583221e-06      2.626454   \n",
              "50%                  0.977200             6.248313e-05     23.614577   \n",
              "95%                  0.996440             3.391280e-03    126.867453   \n",
              "99%                  0.998655             1.260194e-02    257.871527   \n",
              "max                  0.999277             5.915000e-02    386.355263   \n",
              "\n",
              "       x_max_ratio_volume_open  x_media_volume  x_min_ratio_open_dif  \\\n",
              "count             13916.000000    1.391600e+04          13916.000000   \n",
              "mean                  0.019981    7.218674e+05              0.011699   \n",
              "std                   0.064397    1.485080e+06              0.010871   \n",
              "min                   0.000001    2.500000e+02              0.000000   \n",
              "1%                    0.000003    6.008333e+02              0.000000   \n",
              "5%                    0.000010    1.938221e+03              0.000000   \n",
              "50%                   0.000515    1.437101e+05              0.009155   \n",
              "95%                   0.137408    3.780005e+06              0.033489   \n",
              "99%                   0.368857    7.758910e+06              0.049180   \n",
              "max                   0.677100    1.125867e+07              0.063291   \n",
              "\n",
              "       x_media_ratio_volume_dif  x_max_ratio_open_dif  x_min_ratio_open_high  \\\n",
              "count              1.391600e+04          13916.000000           13916.000000   \n",
              "mean               4.111856e-05              0.072059               1.000367   \n",
              "std                1.511051e-04              0.071949               0.001002   \n",
              "min                2.030807e-08              0.001985               1.000000   \n",
              "1%                 5.697202e-08              0.004002               1.000000   \n",
              "5%                 1.439786e-07              0.008248               1.000000   \n",
              "50%                4.428136e-06              0.050245               1.000000   \n",
              "95%                1.847461e-04              0.215142               1.002561   \n",
              "99%                6.000529e-04              0.346492               1.005154   \n",
              "max                3.859714e-03              0.600000               1.007194   \n",
              "\n",
              "       x_mediana_ratio_open_close  x_media_ratio_open_close  \n",
              "count                13916.000000              13916.000000  \n",
              "mean                     0.999271                  0.999491  \n",
              "std                      0.005664                  0.005484  \n",
              "min                      0.968067                  0.972708  \n",
              "1%                       0.979492                  0.981932  \n",
              "5%                       0.988678                  0.989826  \n",
              "50%                      1.000000                  0.999839  \n",
              "95%                      1.007463                  1.007988  \n",
              "99%                      1.013574                  1.014603  \n",
              "max                      1.018634                  1.022130  "
            ]
          },
          "execution_count": 80,
          "metadata": {},
          "output_type": "execute_result"
        }
      ],
      "source": [
        "train[var].describe(percentiles=[0.01,0.05,0.95,0.99])"
      ]
    },
    {
      "cell_type": "markdown",
      "metadata": {
        "id": "7y3DCjvRlQQp"
      },
      "source": [
        "#### Híper-Caja $X_{[0,1]}$"
      ]
    },
    {
      "cell_type": "code",
      "execution_count": null,
      "metadata": {
        "id": "beELZ6DylQQp"
      },
      "outputs": [],
      "source": [
        "scx = MinMaxScaler()\n",
        "scy = MinMaxScaler()"
      ]
    },
    {
      "cell_type": "code",
      "execution_count": null,
      "metadata": {
        "id": "JQqISNkIlQQq"
      },
      "outputs": [],
      "source": [
        "y01 = pd.DataFrame(scy.fit_transform(train[['target']]),columns=['target'])"
      ]
    },
    {
      "cell_type": "code",
      "execution_count": null,
      "metadata": {
        "id": "MWnB0NFHlQQq",
        "outputId": "64a9a365-dc9f-4255-af7e-25a593696aef"
      },
      "outputs": [
        {
          "data": {
            "text/html": [
              "<div>\n",
              "<style scoped>\n",
              "    .dataframe tbody tr th:only-of-type {\n",
              "        vertical-align: middle;\n",
              "    }\n",
              "\n",
              "    .dataframe tbody tr th {\n",
              "        vertical-align: top;\n",
              "    }\n",
              "\n",
              "    .dataframe thead th {\n",
              "        text-align: right;\n",
              "    }\n",
              "</style>\n",
              "<table border=\"1\" class=\"dataframe\">\n",
              "  <thead>\n",
              "    <tr style=\"text-align: right;\">\n",
              "      <th></th>\n",
              "      <th>x_media_ratio_high_low</th>\n",
              "      <th>x_min_ratio_volume_high</th>\n",
              "      <th>x_media_open</th>\n",
              "      <th>x_max_ratio_volume_open</th>\n",
              "      <th>x_media_volume</th>\n",
              "      <th>x_min_ratio_open_dif</th>\n",
              "      <th>x_media_ratio_volume_dif</th>\n",
              "      <th>x_max_ratio_open_dif</th>\n",
              "      <th>x_min_ratio_open_high</th>\n",
              "      <th>x_mediana_ratio_open_close</th>\n",
              "      <th>x_media_ratio_open_close</th>\n",
              "    </tr>\n",
              "  </thead>\n",
              "  <tbody>\n",
              "    <tr>\n",
              "      <th>count</th>\n",
              "      <td>13916.000000</td>\n",
              "      <td>13916.000000</td>\n",
              "      <td>13916.000000</td>\n",
              "      <td>13916.000000</td>\n",
              "      <td>13916.000000</td>\n",
              "      <td>13916.000000</td>\n",
              "      <td>13916.000000</td>\n",
              "      <td>13916.000000</td>\n",
              "      <td>13916.000000</td>\n",
              "      <td>13916.000000</td>\n",
              "      <td>13916.000000</td>\n",
              "    </tr>\n",
              "    <tr>\n",
              "      <th>mean</th>\n",
              "      <td>0.818504</td>\n",
              "      <td>0.012189</td>\n",
              "      <td>0.100433</td>\n",
              "      <td>0.029508</td>\n",
              "      <td>0.064096</td>\n",
              "      <td>0.184840</td>\n",
              "      <td>0.010648</td>\n",
              "      <td>0.117178</td>\n",
              "      <td>0.050995</td>\n",
              "      <td>0.617085</td>\n",
              "      <td>0.541922</td>\n",
              "    </tr>\n",
              "    <tr>\n",
              "      <th>std</th>\n",
              "      <td>0.154163</td>\n",
              "      <td>0.048926</td>\n",
              "      <td>0.124988</td>\n",
              "      <td>0.095107</td>\n",
              "      <td>0.131908</td>\n",
              "      <td>0.171769</td>\n",
              "      <td>0.039149</td>\n",
              "      <td>0.120313</td>\n",
              "      <td>0.139278</td>\n",
              "      <td>0.112013</td>\n",
              "      <td>0.110955</td>\n",
              "    </tr>\n",
              "    <tr>\n",
              "      <th>min</th>\n",
              "      <td>0.000000</td>\n",
              "      <td>0.000000</td>\n",
              "      <td>0.000000</td>\n",
              "      <td>0.000000</td>\n",
              "      <td>0.000000</td>\n",
              "      <td>0.000000</td>\n",
              "      <td>0.000000</td>\n",
              "      <td>0.000000</td>\n",
              "      <td>0.000000</td>\n",
              "      <td>0.000000</td>\n",
              "      <td>0.000000</td>\n",
              "    </tr>\n",
              "    <tr>\n",
              "      <th>25%</th>\n",
              "      <td>0.755066</td>\n",
              "      <td>0.000209</td>\n",
              "      <td>0.026962</td>\n",
              "      <td>0.000122</td>\n",
              "      <td>0.002764</td>\n",
              "      <td>0.052563</td>\n",
              "      <td>0.000255</td>\n",
              "      <td>0.037076</td>\n",
              "      <td>0.000000</td>\n",
              "      <td>0.583349</td>\n",
              "      <td>0.500938</td>\n",
              "    </tr>\n",
              "    <tr>\n",
              "      <th>50%</th>\n",
              "      <td>0.859322</td>\n",
              "      <td>0.001054</td>\n",
              "      <td>0.059271</td>\n",
              "      <td>0.000759</td>\n",
              "      <td>0.012742</td>\n",
              "      <td>0.144650</td>\n",
              "      <td>0.001142</td>\n",
              "      <td>0.080701</td>\n",
              "      <td>0.000000</td>\n",
              "      <td>0.631503</td>\n",
              "      <td>0.548971</td>\n",
              "    </tr>\n",
              "    <tr>\n",
              "      <th>75%</th>\n",
              "      <td>0.932193</td>\n",
              "      <td>0.004741</td>\n",
              "      <td>0.124075</td>\n",
              "      <td>0.005289</td>\n",
              "      <td>0.055342</td>\n",
              "      <td>0.262771</td>\n",
              "      <td>0.005231</td>\n",
              "      <td>0.153713</td>\n",
              "      <td>0.000000</td>\n",
              "      <td>0.665138</td>\n",
              "      <td>0.588853</td>\n",
              "    </tr>\n",
              "    <tr>\n",
              "      <th>max</th>\n",
              "      <td>1.000000</td>\n",
              "      <td>1.000000</td>\n",
              "      <td>1.000000</td>\n",
              "      <td>1.000000</td>\n",
              "      <td>1.000000</td>\n",
              "      <td>1.000000</td>\n",
              "      <td>1.000000</td>\n",
              "      <td>1.000000</td>\n",
              "      <td>1.000000</td>\n",
              "      <td>1.000000</td>\n",
              "      <td>1.000000</td>\n",
              "    </tr>\n",
              "  </tbody>\n",
              "</table>\n",
              "</div>"
            ],
            "text/plain": [
              "       x_media_ratio_high_low  x_min_ratio_volume_high  x_media_open  \\\n",
              "count            13916.000000             13916.000000  13916.000000   \n",
              "mean                 0.818504                 0.012189      0.100433   \n",
              "std                  0.154163                 0.048926      0.124988   \n",
              "min                  0.000000                 0.000000      0.000000   \n",
              "25%                  0.755066                 0.000209      0.026962   \n",
              "50%                  0.859322                 0.001054      0.059271   \n",
              "75%                  0.932193                 0.004741      0.124075   \n",
              "max                  1.000000                 1.000000      1.000000   \n",
              "\n",
              "       x_max_ratio_volume_open  x_media_volume  x_min_ratio_open_dif  \\\n",
              "count             13916.000000    13916.000000          13916.000000   \n",
              "mean                  0.029508        0.064096              0.184840   \n",
              "std                   0.095107        0.131908              0.171769   \n",
              "min                   0.000000        0.000000              0.000000   \n",
              "25%                   0.000122        0.002764              0.052563   \n",
              "50%                   0.000759        0.012742              0.144650   \n",
              "75%                   0.005289        0.055342              0.262771   \n",
              "max                   1.000000        1.000000              1.000000   \n",
              "\n",
              "       x_media_ratio_volume_dif  x_max_ratio_open_dif  x_min_ratio_open_high  \\\n",
              "count              13916.000000          13916.000000           13916.000000   \n",
              "mean                   0.010648              0.117178               0.050995   \n",
              "std                    0.039149              0.120313               0.139278   \n",
              "min                    0.000000              0.000000               0.000000   \n",
              "25%                    0.000255              0.037076               0.000000   \n",
              "50%                    0.001142              0.080701               0.000000   \n",
              "75%                    0.005231              0.153713               0.000000   \n",
              "max                    1.000000              1.000000               1.000000   \n",
              "\n",
              "       x_mediana_ratio_open_close  x_media_ratio_open_close  \n",
              "count                13916.000000              13916.000000  \n",
              "mean                     0.617085                  0.541922  \n",
              "std                      0.112013                  0.110955  \n",
              "min                      0.000000                  0.000000  \n",
              "25%                      0.583349                  0.500938  \n",
              "50%                      0.631503                  0.548971  \n",
              "75%                      0.665138                  0.588853  \n",
              "max                      1.000000                  1.000000  "
            ]
          },
          "execution_count": 118,
          "metadata": {},
          "output_type": "execute_result"
        }
      ],
      "source": [
        "X01 = pd.DataFrame(scx.fit_transform(train[var]),columns=var)\n",
        "X01.describe()"
      ]
    },
    {
      "cell_type": "markdown",
      "metadata": {
        "id": "8h6Y79HplQQq"
      },
      "source": [
        "## Análisis de poder predictivo"
      ]
    },
    {
      "cell_type": "code",
      "execution_count": null,
      "metadata": {
        "id": "JziZKz56lQQq"
      },
      "outputs": [],
      "source": [
        "#sk = SelectKBest(k=len(var),score_func=f_regression)\n",
        "sk = SelectKBest(k=3)"
      ]
    },
    {
      "cell_type": "code",
      "execution_count": null,
      "metadata": {
        "id": "oF-uhTvNlQQq",
        "outputId": "7c9e12cf-74bb-452a-f9c5-703b5ee41fb5"
      },
      "outputs": [
        {
          "data": {
            "text/html": [
              "<style>#sk-container-id-7 {color: black;background-color: white;}#sk-container-id-7 pre{padding: 0;}#sk-container-id-7 div.sk-toggleable {background-color: white;}#sk-container-id-7 label.sk-toggleable__label {cursor: pointer;display: block;width: 100%;margin-bottom: 0;padding: 0.3em;box-sizing: border-box;text-align: center;}#sk-container-id-7 label.sk-toggleable__label-arrow:before {content: \"▸\";float: left;margin-right: 0.25em;color: #696969;}#sk-container-id-7 label.sk-toggleable__label-arrow:hover:before {color: black;}#sk-container-id-7 div.sk-estimator:hover label.sk-toggleable__label-arrow:before {color: black;}#sk-container-id-7 div.sk-toggleable__content {max-height: 0;max-width: 0;overflow: hidden;text-align: left;background-color: #f0f8ff;}#sk-container-id-7 div.sk-toggleable__content pre {margin: 0.2em;color: black;border-radius: 0.25em;background-color: #f0f8ff;}#sk-container-id-7 input.sk-toggleable__control:checked~div.sk-toggleable__content {max-height: 200px;max-width: 100%;overflow: auto;}#sk-container-id-7 input.sk-toggleable__control:checked~label.sk-toggleable__label-arrow:before {content: \"▾\";}#sk-container-id-7 div.sk-estimator input.sk-toggleable__control:checked~label.sk-toggleable__label {background-color: #d4ebff;}#sk-container-id-7 div.sk-label input.sk-toggleable__control:checked~label.sk-toggleable__label {background-color: #d4ebff;}#sk-container-id-7 input.sk-hidden--visually {border: 0;clip: rect(1px 1px 1px 1px);clip: rect(1px, 1px, 1px, 1px);height: 1px;margin: -1px;overflow: hidden;padding: 0;position: absolute;width: 1px;}#sk-container-id-7 div.sk-estimator {font-family: monospace;background-color: #f0f8ff;border: 1px dotted black;border-radius: 0.25em;box-sizing: border-box;margin-bottom: 0.5em;}#sk-container-id-7 div.sk-estimator:hover {background-color: #d4ebff;}#sk-container-id-7 div.sk-parallel-item::after {content: \"\";width: 100%;border-bottom: 1px solid gray;flex-grow: 1;}#sk-container-id-7 div.sk-label:hover label.sk-toggleable__label {background-color: #d4ebff;}#sk-container-id-7 div.sk-serial::before {content: \"\";position: absolute;border-left: 1px solid gray;box-sizing: border-box;top: 0;bottom: 0;left: 50%;z-index: 0;}#sk-container-id-7 div.sk-serial {display: flex;flex-direction: column;align-items: center;background-color: white;padding-right: 0.2em;padding-left: 0.2em;position: relative;}#sk-container-id-7 div.sk-item {position: relative;z-index: 1;}#sk-container-id-7 div.sk-parallel {display: flex;align-items: stretch;justify-content: center;background-color: white;position: relative;}#sk-container-id-7 div.sk-item::before, #sk-container-id-7 div.sk-parallel-item::before {content: \"\";position: absolute;border-left: 1px solid gray;box-sizing: border-box;top: 0;bottom: 0;left: 50%;z-index: -1;}#sk-container-id-7 div.sk-parallel-item {display: flex;flex-direction: column;z-index: 1;position: relative;background-color: white;}#sk-container-id-7 div.sk-parallel-item:first-child::after {align-self: flex-end;width: 50%;}#sk-container-id-7 div.sk-parallel-item:last-child::after {align-self: flex-start;width: 50%;}#sk-container-id-7 div.sk-parallel-item:only-child::after {width: 0;}#sk-container-id-7 div.sk-dashed-wrapped {border: 1px dashed gray;margin: 0 0.4em 0.5em 0.4em;box-sizing: border-box;padding-bottom: 0.4em;background-color: white;}#sk-container-id-7 div.sk-label label {font-family: monospace;font-weight: bold;display: inline-block;line-height: 1.2em;}#sk-container-id-7 div.sk-label-container {text-align: center;}#sk-container-id-7 div.sk-container {/* jupyter's `normalize.less` sets `[hidden] { display: none; }` but bootstrap.min.css set `[hidden] { display: none !important; }` so we also need the `!important` here to be able to override the default hidden behavior on the sphinx rendered scikit-learn.org. See: https://github.com/scikit-learn/scikit-learn/issues/21755 */display: inline-block !important;position: relative;}#sk-container-id-7 div.sk-text-repr-fallback {display: none;}</style><div id=\"sk-container-id-7\" class=\"sk-top-container\"><div class=\"sk-text-repr-fallback\"><pre>SelectKBest(k=3)</pre><b>In a Jupyter environment, please rerun this cell to show the HTML representation or trust the notebook. <br />On GitHub, the HTML representation is unable to render, please try loading this page with nbviewer.org.</b></div><div class=\"sk-container\" hidden><div class=\"sk-item\"><div class=\"sk-estimator sk-toggleable\"><input class=\"sk-toggleable__control sk-hidden--visually\" id=\"sk-estimator-id-7\" type=\"checkbox\" checked><label for=\"sk-estimator-id-7\" class=\"sk-toggleable__label sk-toggleable__label-arrow\">SelectKBest</label><div class=\"sk-toggleable__content\"><pre>SelectKBest(k=3)</pre></div></div></div></div></div>"
            ],
            "text/plain": [
              "SelectKBest(k=3)"
            ]
          },
          "execution_count": 127,
          "metadata": {},
          "output_type": "execute_result"
        }
      ],
      "source": [
        "sk.fit(X01[var],y01['target'])"
      ]
    },
    {
      "cell_type": "code",
      "execution_count": null,
      "metadata": {
        "id": "99fnT2LJlQQq",
        "outputId": "95d59595-ccb1-4d93-c6d8-ab4867a1c37d"
      },
      "outputs": [
        {
          "data": {
            "text/plain": [
              "array([  1.31818542,   2.61965547, 665.06144781,   2.5230803 ,\n",
              "         1.1446985 ,   0.96009078,   2.35559481,   1.26201131,\n",
              "         1.17666825,   0.83784066,   0.82436301])"
            ]
          },
          "execution_count": 128,
          "metadata": {},
          "output_type": "execute_result"
        }
      ],
      "source": [
        "sk.scores_"
      ]
    },
    {
      "cell_type": "code",
      "execution_count": null,
      "metadata": {
        "id": "yHhWHle3lQQr",
        "outputId": "6c8e7679-12ee-4088-a59a-c7b0cefc9eb7"
      },
      "outputs": [
        {
          "data": {
            "text/plain": [
              "x_min_ratio_volume_high      1.318185\n",
              "x_media_open                 2.619655\n",
              "x_max_ratio_volume_open    665.061448\n",
              "dtype: float64"
            ]
          },
          "execution_count": 129,
          "metadata": {},
          "output_type": "execute_result"
        }
      ],
      "source": [
        "pd.Series(dict(zip(sk.get_feature_names_out(),sk.scores_)))"
      ]
    },
    {
      "cell_type": "code",
      "execution_count": null,
      "metadata": {
        "id": "TyiSOmNHlQQr"
      },
      "outputs": [],
      "source": [
        "best = [v for v,d in zip(var,sk.get_support()) if d ]"
      ]
    },
    {
      "cell_type": "code",
      "execution_count": null,
      "metadata": {
        "id": "8uEs6APIlQQr",
        "outputId": "b2e39612-849c-44df-f191-6bee9e49f538"
      },
      "outputs": [
        {
          "data": {
            "text/plain": [
              "['x_min_ratio_volume_high', 'x_media_open', 'x_max_ratio_volume_open']"
            ]
          },
          "execution_count": 131,
          "metadata": {},
          "output_type": "execute_result"
        }
      ],
      "source": [
        "best"
      ]
    },
    {
      "cell_type": "markdown",
      "metadata": {
        "id": "cs4D_83rlQQr"
      },
      "source": [
        "## Representación Vectorial"
      ]
    },
    {
      "cell_type": "code",
      "execution_count": null,
      "metadata": {
        "id": "8WkE1RW6lQQr"
      },
      "outputs": [],
      "source": [
        "pipe = make_pipeline(StandardScaler(),PCA(),MinMaxScaler())"
      ]
    },
    {
      "cell_type": "code",
      "execution_count": null,
      "metadata": {
        "id": "pr2N_RHilQQr"
      },
      "outputs": [],
      "source": [
        "Z = pd.DataFrame(pipe.fit_transform(train[best]))"
      ]
    },
    {
      "cell_type": "code",
      "execution_count": null,
      "metadata": {
        "id": "fp4hlzWulQQr",
        "outputId": "5a60388e-0537-44d5-d3c6-cacbd71df155"
      },
      "outputs": [
        {
          "data": {
            "text/html": [
              "<div>\n",
              "<style scoped>\n",
              "    .dataframe tbody tr th:only-of-type {\n",
              "        vertical-align: middle;\n",
              "    }\n",
              "\n",
              "    .dataframe tbody tr th {\n",
              "        vertical-align: top;\n",
              "    }\n",
              "\n",
              "    .dataframe thead th {\n",
              "        text-align: right;\n",
              "    }\n",
              "</style>\n",
              "<table border=\"1\" class=\"dataframe\">\n",
              "  <thead>\n",
              "    <tr style=\"text-align: right;\">\n",
              "      <th></th>\n",
              "      <th>0</th>\n",
              "      <th>1</th>\n",
              "      <th>2</th>\n",
              "    </tr>\n",
              "  </thead>\n",
              "  <tbody>\n",
              "    <tr>\n",
              "      <th>0</th>\n",
              "      <td>1.0</td>\n",
              "      <td>-0.0</td>\n",
              "      <td>-0.0</td>\n",
              "    </tr>\n",
              "    <tr>\n",
              "      <th>1</th>\n",
              "      <td>-0.0</td>\n",
              "      <td>1.0</td>\n",
              "      <td>0.0</td>\n",
              "    </tr>\n",
              "    <tr>\n",
              "      <th>2</th>\n",
              "      <td>-0.0</td>\n",
              "      <td>0.0</td>\n",
              "      <td>1.0</td>\n",
              "    </tr>\n",
              "  </tbody>\n",
              "</table>\n",
              "</div>"
            ],
            "text/plain": [
              "     0    1    2\n",
              "0  1.0 -0.0 -0.0\n",
              "1 -0.0  1.0  0.0\n",
              "2 -0.0  0.0  1.0"
            ]
          },
          "execution_count": 137,
          "metadata": {},
          "output_type": "execute_result"
        }
      ],
      "source": [
        "Z.corr().round(1)"
      ]
    },
    {
      "cell_type": "code",
      "execution_count": null,
      "metadata": {
        "id": "VN8i3THxlQQr",
        "outputId": "24a1edba-259b-40f2-b279-a448dcb220d0"
      },
      "outputs": [
        {
          "data": {
            "text/plain": [
              "array([[<Axes: title={'center': '0'}>, <Axes: title={'center': '1'}>],\n",
              "       [<Axes: title={'center': '2'}>, <Axes: >]], dtype=object)"
            ]
          },
          "execution_count": 138,
          "metadata": {},
          "output_type": "execute_result"
        },
        {
          "data": {
            "image/png": "[encoded data removed]",
            "text/plain": [
              "<Figure size 640x480 with 4 Axes>"
            ]
          },
          "metadata": {},
          "output_type": "display_data"
        }
      ],
      "source": [
        "Z.hist()"
      ]
    },
    {
      "cell_type": "markdown",
      "metadata": {
        "id": "lxcz9HInlQQs"
      },
      "source": [
        "## Aprendizaje"
      ]
    },
    {
      "cell_type": "code",
      "execution_count": null,
      "metadata": {
        "id": "rf_ZLmuwlQQs"
      },
      "outputs": [],
      "source": [
        "ann = MLPRegressor()"
      ]
    },
    {
      "cell_type": "markdown",
      "metadata": {
        "id": "gTOQdH0tlQQs"
      },
      "source": [
        "### Híper-parametrización"
      ]
    },
    {
      "cell_type": "code",
      "execution_count": null,
      "metadata": {
        "id": "PWevmRwDlQQs"
      },
      "outputs": [],
      "source": [
        "hiper_param = {'hidden_layer_sizes':[(a,b,) for a in range(5,10) for b in range(5,10)],\n",
        "               'learning_rate':['constant', 'invscaling', 'adaptive'],\n",
        "               'activation':['relu','tanh','sigmoid']}"
      ]
    },
    {
      "cell_type": "code",
      "execution_count": null,
      "metadata": {
        "id": "WrrSL71PlQQs",
        "outputId": "f179e9f6-4d98-4bc5-985f-0332b06ea544"
      },
      "outputs": [
        {
          "data": {
            "text/plain": [
              "225"
            ]
          },
          "execution_count": 143,
          "metadata": {},
          "output_type": "execute_result"
        }
      ],
      "source": [
        "reduce(lambda x,y:x*y,map(len,hiper_param.values()))"
      ]
    },
    {
      "cell_type": "code",
      "execution_count": null,
      "metadata": {
        "id": "l1CJ6oJZlQQs"
      },
      "outputs": [],
      "source": [
        "grid = GridSearchCV(param_grid=hiper_param, n_jobs=-1,\n",
        "                    estimator=ann, cv=5, verbose=True, scoring='neg_mean_absolute_error')\n"
      ]
    },
    {
      "cell_type": "code",
      "execution_count": null,
      "metadata": {
        "id": "SwiqbNwslQQs",
        "outputId": "1b70bf12-f529-4aa4-aaa9-25eb2c8d16c2"
      },
      "outputs": [
        {
          "name": "stdout",
          "output_type": "stream",
          "text": [
            "Fitting 5 folds for each of 225 candidates, totalling 1125 fits\n"
          ]
        },
        {
          "name": "stderr",
          "output_type": "stream",
          "text": [
            "/home/jose/entornos/tsc2/lib/python3.10/site-packages/sklearn/model_selection/_validation.py:378: FitFailedWarning:\n",
            "\n",
            "\n",
            "375 fits failed out of a total of 1125.\n",
            "The score on these train-test partitions for these parameters will be set to nan.\n",
            "If these failures are not expected, you can try to debug them by setting error_score='raise'.\n",
            "\n",
            "Below are more details about the failures:\n",
            "--------------------------------------------------------------------------------\n",
            "91 fits failed with the following error:\n",
            "Traceback (most recent call last):\n",
            "  File \"/home/jose/entornos/tsc2/lib/python3.10/site-packages/sklearn/model_selection/_validation.py\", line 686, in _fit_and_score\n",
            "    estimator.fit(X_train, y_train, **fit_params)\n",
            "  File \"/home/jose/entornos/tsc2/lib/python3.10/site-packages/sklearn/neural_network/_multilayer_perceptron.py\", line 745, in fit\n",
            "    self._validate_params()\n",
            "  File \"/home/jose/entornos/tsc2/lib/python3.10/site-packages/sklearn/base.py\", line 581, in _validate_params\n",
            "    validate_parameter_constraints(\n",
            "  File \"/home/jose/entornos/tsc2/lib/python3.10/site-packages/sklearn/utils/_param_validation.py\", line 97, in validate_parameter_constraints\n",
            "    raise InvalidParameterError(\n",
            "sklearn.utils._param_validation.InvalidParameterError: The 'activation' parameter of MLPRegressor must be a str among {'tanh', 'relu', 'identity', 'logistic'}. Got 'sigmoid' instead.\n",
            "\n",
            "--------------------------------------------------------------------------------\n",
            "48 fits failed with the following error:\n",
            "Traceback (most recent call last):\n",
            "  File \"/home/jose/entornos/tsc2/lib/python3.10/site-packages/sklearn/model_selection/_validation.py\", line 686, in _fit_and_score\n",
            "    estimator.fit(X_train, y_train, **fit_params)\n",
            "  File \"/home/jose/entornos/tsc2/lib/python3.10/site-packages/sklearn/neural_network/_multilayer_perceptron.py\", line 745, in fit\n",
            "    self._validate_params()\n",
            "  File \"/home/jose/entornos/tsc2/lib/python3.10/site-packages/sklearn/base.py\", line 581, in _validate_params\n",
            "    validate_parameter_constraints(\n",
            "  File \"/home/jose/entornos/tsc2/lib/python3.10/site-packages/sklearn/utils/_param_validation.py\", line 97, in validate_parameter_constraints\n",
            "    raise InvalidParameterError(\n",
            "sklearn.utils._param_validation.InvalidParameterError: The 'activation' parameter of MLPRegressor must be a str among {'logistic', 'tanh', 'relu', 'identity'}. Got 'sigmoid' instead.\n",
            "\n",
            "--------------------------------------------------------------------------------\n",
            "48 fits failed with the following error:\n",
            "Traceback (most recent call last):\n",
            "  File \"/home/jose/entornos/tsc2/lib/python3.10/site-packages/sklearn/model_selection/_validation.py\", line 686, in _fit_and_score\n",
            "    estimator.fit(X_train, y_train, **fit_params)\n",
            "  File \"/home/jose/entornos/tsc2/lib/python3.10/site-packages/sklearn/neural_network/_multilayer_perceptron.py\", line 745, in fit\n",
            "    self._validate_params()\n",
            "  File \"/home/jose/entornos/tsc2/lib/python3.10/site-packages/sklearn/base.py\", line 581, in _validate_params\n",
            "    validate_parameter_constraints(\n",
            "  File \"/home/jose/entornos/tsc2/lib/python3.10/site-packages/sklearn/utils/_param_validation.py\", line 97, in validate_parameter_constraints\n",
            "    raise InvalidParameterError(\n",
            "sklearn.utils._param_validation.InvalidParameterError: The 'activation' parameter of MLPRegressor must be a str among {'relu', 'logistic', 'identity', 'tanh'}. Got 'sigmoid' instead.\n",
            "\n",
            "--------------------------------------------------------------------------------\n",
            "70 fits failed with the following error:\n",
            "Traceback (most recent call last):\n",
            "  File \"/home/jose/entornos/tsc2/lib/python3.10/site-packages/sklearn/model_selection/_validation.py\", line 686, in _fit_and_score\n",
            "    estimator.fit(X_train, y_train, **fit_params)\n",
            "  File \"/home/jose/entornos/tsc2/lib/python3.10/site-packages/sklearn/neural_network/_multilayer_perceptron.py\", line 745, in fit\n",
            "    self._validate_params()\n",
            "  File \"/home/jose/entornos/tsc2/lib/python3.10/site-packages/sklearn/base.py\", line 581, in _validate_params\n",
            "    validate_parameter_constraints(\n",
            "  File \"/home/jose/entornos/tsc2/lib/python3.10/site-packages/sklearn/utils/_param_validation.py\", line 97, in validate_parameter_constraints\n",
            "    raise InvalidParameterError(\n",
            "sklearn.utils._param_validation.InvalidParameterError: The 'activation' parameter of MLPRegressor must be a str among {'relu', 'tanh', 'logistic', 'identity'}. Got 'sigmoid' instead.\n",
            "\n",
            "--------------------------------------------------------------------------------\n",
            "40 fits failed with the following error:\n",
            "Traceback (most recent call last):\n",
            "  File \"/home/jose/entornos/tsc2/lib/python3.10/site-packages/sklearn/model_selection/_validation.py\", line 686, in _fit_and_score\n",
            "    estimator.fit(X_train, y_train, **fit_params)\n",
            "  File \"/home/jose/entornos/tsc2/lib/python3.10/site-packages/sklearn/neural_network/_multilayer_perceptron.py\", line 745, in fit\n",
            "    self._validate_params()\n",
            "  File \"/home/jose/entornos/tsc2/lib/python3.10/site-packages/sklearn/base.py\", line 581, in _validate_params\n",
            "    validate_parameter_constraints(\n",
            "  File \"/home/jose/entornos/tsc2/lib/python3.10/site-packages/sklearn/utils/_param_validation.py\", line 97, in validate_parameter_constraints\n",
            "    raise InvalidParameterError(\n",
            "sklearn.utils._param_validation.InvalidParameterError: The 'activation' parameter of MLPRegressor must be a str among {'tanh', 'logistic', 'relu', 'identity'}. Got 'sigmoid' instead.\n",
            "\n",
            "--------------------------------------------------------------------------------\n",
            "33 fits failed with the following error:\n",
            "Traceback (most recent call last):\n",
            "  File \"/home/jose/entornos/tsc2/lib/python3.10/site-packages/sklearn/model_selection/_validation.py\", line 686, in _fit_and_score\n",
            "    estimator.fit(X_train, y_train, **fit_params)\n",
            "  File \"/home/jose/entornos/tsc2/lib/python3.10/site-packages/sklearn/neural_network/_multilayer_perceptron.py\", line 745, in fit\n",
            "    self._validate_params()\n",
            "  File \"/home/jose/entornos/tsc2/lib/python3.10/site-packages/sklearn/base.py\", line 581, in _validate_params\n",
            "    validate_parameter_constraints(\n",
            "  File \"/home/jose/entornos/tsc2/lib/python3.10/site-packages/sklearn/utils/_param_validation.py\", line 97, in validate_parameter_constraints\n",
            "    raise InvalidParameterError(\n",
            "sklearn.utils._param_validation.InvalidParameterError: The 'activation' parameter of MLPRegressor must be a str among {'identity', 'logistic', 'relu', 'tanh'}. Got 'sigmoid' instead.\n",
            "\n",
            "--------------------------------------------------------------------------------\n",
            "13 fits failed with the following error:\n",
            "Traceback (most recent call last):\n",
            "  File \"/home/jose/entornos/tsc2/lib/python3.10/site-packages/sklearn/model_selection/_validation.py\", line 686, in _fit_and_score\n",
            "    estimator.fit(X_train, y_train, **fit_params)\n",
            "  File \"/home/jose/entornos/tsc2/lib/python3.10/site-packages/sklearn/neural_network/_multilayer_perceptron.py\", line 745, in fit\n",
            "    self._validate_params()\n",
            "  File \"/home/jose/entornos/tsc2/lib/python3.10/site-packages/sklearn/base.py\", line 581, in _validate_params\n",
            "    validate_parameter_constraints(\n",
            "  File \"/home/jose/entornos/tsc2/lib/python3.10/site-packages/sklearn/utils/_param_validation.py\", line 97, in validate_parameter_constraints\n",
            "    raise InvalidParameterError(\n",
            "sklearn.utils._param_validation.InvalidParameterError: The 'activation' parameter of MLPRegressor must be a str among {'relu', 'tanh', 'identity', 'logistic'}. Got 'sigmoid' instead.\n",
            "\n",
            "--------------------------------------------------------------------------------\n",
            "16 fits failed with the following error:\n",
            "Traceback (most recent call last):\n",
            "  File \"/home/jose/entornos/tsc2/lib/python3.10/site-packages/sklearn/model_selection/_validation.py\", line 686, in _fit_and_score\n",
            "    estimator.fit(X_train, y_train, **fit_params)\n",
            "  File \"/home/jose/entornos/tsc2/lib/python3.10/site-packages/sklearn/neural_network/_multilayer_perceptron.py\", line 745, in fit\n",
            "    self._validate_params()\n",
            "  File \"/home/jose/entornos/tsc2/lib/python3.10/site-packages/sklearn/base.py\", line 581, in _validate_params\n",
            "    validate_parameter_constraints(\n",
            "  File \"/home/jose/entornos/tsc2/lib/python3.10/site-packages/sklearn/utils/_param_validation.py\", line 97, in validate_parameter_constraints\n",
            "    raise InvalidParameterError(\n",
            "sklearn.utils._param_validation.InvalidParameterError: The 'activation' parameter of MLPRegressor must be a str among {'tanh', 'relu', 'logistic', 'identity'}. Got 'sigmoid' instead.\n",
            "\n",
            "--------------------------------------------------------------------------------\n",
            "16 fits failed with the following error:\n",
            "Traceback (most recent call last):\n",
            "  File \"/home/jose/entornos/tsc2/lib/python3.10/site-packages/sklearn/model_selection/_validation.py\", line 686, in _fit_and_score\n",
            "    estimator.fit(X_train, y_train, **fit_params)\n",
            "  File \"/home/jose/entornos/tsc2/lib/python3.10/site-packages/sklearn/neural_network/_multilayer_perceptron.py\", line 745, in fit\n",
            "    self._validate_params()\n",
            "  File \"/home/jose/entornos/tsc2/lib/python3.10/site-packages/sklearn/base.py\", line 581, in _validate_params\n",
            "    validate_parameter_constraints(\n",
            "  File \"/home/jose/entornos/tsc2/lib/python3.10/site-packages/sklearn/utils/_param_validation.py\", line 97, in validate_parameter_constraints\n",
            "    raise InvalidParameterError(\n",
            "sklearn.utils._param_validation.InvalidParameterError: The 'activation' parameter of MLPRegressor must be a str among {'relu', 'logistic', 'tanh', 'identity'}. Got 'sigmoid' instead.\n",
            "\n",
            "\n",
            "/home/jose/entornos/tsc2/lib/python3.10/site-packages/sklearn/model_selection/_search.py:952: UserWarning:\n",
            "\n",
            "One or more of the test scores are non-finite: [-0.00524187 -0.00751885 -0.00692512 -0.01286486 -0.00739399 -0.01892164\n",
            " -0.00671757 -0.00734032 -0.00806425 -0.00709505 -0.00762215 -0.00788406\n",
            " -0.00738358 -0.00761145 -0.00601964 -0.00637415 -0.00983347 -0.01453461\n",
            " -0.00683745 -0.00631253 -0.00787376 -0.00528144 -0.00591909 -0.00765564\n",
            " -0.01711289 -0.00596727 -0.00613395 -0.005855   -0.00785086 -0.01922954\n",
            " -0.00606757 -0.02102283 -0.00645863 -0.00556105 -0.01914582 -0.00707176\n",
            " -0.00911545 -0.00647666 -0.00746133 -0.00682948 -0.00853385 -0.00723473\n",
            " -0.00717418 -0.00677764 -0.0085167  -0.00693025 -0.00801642 -0.02059134\n",
            " -0.00830729 -0.00664581 -0.00694279 -0.00587092 -0.00517631 -0.00701545\n",
            " -0.00526999 -0.00576488 -0.0095352  -0.00703713 -0.00797964 -0.00684002\n",
            " -0.00856866 -0.00554348 -0.00570577 -0.00595372 -0.00629154 -0.00628654\n",
            " -0.0058597  -0.00710396 -0.0059641  -0.00745916 -0.00649446 -0.00612971\n",
            " -0.00576081 -0.00738537 -0.00645177 -0.00958078 -0.0087356  -0.00862679\n",
            " -0.01184122 -0.00810967 -0.00917403 -0.01270274 -0.00730265 -0.0103727\n",
            " -0.00730484 -0.00856687 -0.00594602 -0.00863124 -0.00663907 -0.00758906\n",
            " -0.00991544 -0.00698368 -0.00783285 -0.0145928  -0.00645013 -0.00986601\n",
            " -0.00708532 -0.00792346 -0.01057983 -0.0082895  -0.00758137 -0.00772057\n",
            " -0.00884864 -0.00588432 -0.00682915 -0.00858916 -0.00903652 -0.00757098\n",
            " -0.00675544 -0.00647847 -0.00808178 -0.00921002 -0.00679085 -0.00714816\n",
            " -0.00670208 -0.00760709 -0.006371   -0.00947512 -0.00892027 -0.00717201\n",
            " -0.0077312  -0.00784683 -0.00742024 -0.00862756 -0.00978823 -0.00547642\n",
            " -0.00987023 -0.00739926 -0.00821581 -0.00655956 -0.00648758 -0.00803015\n",
            " -0.00678058 -0.00835836 -0.00612449 -0.01018074 -0.00883555 -0.00606792\n",
            " -0.01047733 -0.00861981 -0.00564343 -0.00773249 -0.0094959  -0.00702902\n",
            " -0.00563281 -0.00691856 -0.00837417 -0.0069595  -0.00716449 -0.0098093\n",
            "         nan         nan         nan         nan         nan         nan\n",
            "         nan         nan         nan         nan         nan         nan\n",
            "         nan         nan         nan         nan         nan         nan\n",
            "         nan         nan         nan         nan         nan         nan\n",
            "         nan         nan         nan         nan         nan         nan\n",
            "         nan         nan         nan         nan         nan         nan\n",
            "         nan         nan         nan         nan         nan         nan\n",
            "         nan         nan         nan         nan         nan         nan\n",
            "         nan         nan         nan         nan         nan         nan\n",
            "         nan         nan         nan         nan         nan         nan\n",
            "         nan         nan         nan         nan         nan         nan\n",
            "         nan         nan         nan         nan         nan         nan\n",
            "         nan         nan         nan]\n",
            "\n"
          ]
        },
        {
          "data": {
            "text/html": [
              "<style>#sk-container-id-10 {color: black;background-color: white;}#sk-container-id-10 pre{padding: 0;}#sk-container-id-10 div.sk-toggleable {background-color: white;}#sk-container-id-10 label.sk-toggleable__label {cursor: pointer;display: block;width: 100%;margin-bottom: 0;padding: 0.3em;box-sizing: border-box;text-align: center;}#sk-container-id-10 label.sk-toggleable__label-arrow:before {content: \"▸\";float: left;margin-right: 0.25em;color: #696969;}#sk-container-id-10 label.sk-toggleable__label-arrow:hover:before {color: black;}#sk-container-id-10 div.sk-estimator:hover label.sk-toggleable__label-arrow:before {color: black;}#sk-container-id-10 div.sk-toggleable__content {max-height: 0;max-width: 0;overflow: hidden;text-align: left;background-color: #f0f8ff;}#sk-container-id-10 div.sk-toggleable__content pre {margin: 0.2em;color: black;border-radius: 0.25em;background-color: #f0f8ff;}#sk-container-id-10 input.sk-toggleable__control:checked~div.sk-toggleable__content {max-height: 200px;max-width: 100%;overflow: auto;}#sk-container-id-10 input.sk-toggleable__control:checked~label.sk-toggleable__label-arrow:before {content: \"▾\";}#sk-container-id-10 div.sk-estimator input.sk-toggleable__control:checked~label.sk-toggleable__label {background-color: #d4ebff;}#sk-container-id-10 div.sk-label input.sk-toggleable__control:checked~label.sk-toggleable__label {background-color: #d4ebff;}#sk-container-id-10 input.sk-hidden--visually {border: 0;clip: rect(1px 1px 1px 1px);clip: rect(1px, 1px, 1px, 1px);height: 1px;margin: -1px;overflow: hidden;padding: 0;position: absolute;width: 1px;}#sk-container-id-10 div.sk-estimator {font-family: monospace;background-color: #f0f8ff;border: 1px dotted black;border-radius: 0.25em;box-sizing: border-box;margin-bottom: 0.5em;}#sk-container-id-10 div.sk-estimator:hover {background-color: #d4ebff;}#sk-container-id-10 div.sk-parallel-item::after {content: \"\";width: 100%;border-bottom: 1px solid gray;flex-grow: 1;}#sk-container-id-10 div.sk-label:hover label.sk-toggleable__label {background-color: #d4ebff;}#sk-container-id-10 div.sk-serial::before {content: \"\";position: absolute;border-left: 1px solid gray;box-sizing: border-box;top: 0;bottom: 0;left: 50%;z-index: 0;}#sk-container-id-10 div.sk-serial {display: flex;flex-direction: column;align-items: center;background-color: white;padding-right: 0.2em;padding-left: 0.2em;position: relative;}#sk-container-id-10 div.sk-item {position: relative;z-index: 1;}#sk-container-id-10 div.sk-parallel {display: flex;align-items: stretch;justify-content: center;background-color: white;position: relative;}#sk-container-id-10 div.sk-item::before, #sk-container-id-10 div.sk-parallel-item::before {content: \"\";position: absolute;border-left: 1px solid gray;box-sizing: border-box;top: 0;bottom: 0;left: 50%;z-index: -1;}#sk-container-id-10 div.sk-parallel-item {display: flex;flex-direction: column;z-index: 1;position: relative;background-color: white;}#sk-container-id-10 div.sk-parallel-item:first-child::after {align-self: flex-end;width: 50%;}#sk-container-id-10 div.sk-parallel-item:last-child::after {align-self: flex-start;width: 50%;}#sk-container-id-10 div.sk-parallel-item:only-child::after {width: 0;}#sk-container-id-10 div.sk-dashed-wrapped {border: 1px dashed gray;margin: 0 0.4em 0.5em 0.4em;box-sizing: border-box;padding-bottom: 0.4em;background-color: white;}#sk-container-id-10 div.sk-label label {font-family: monospace;font-weight: bold;display: inline-block;line-height: 1.2em;}#sk-container-id-10 div.sk-label-container {text-align: center;}#sk-container-id-10 div.sk-container {/* jupyter's `normalize.less` sets `[hidden] { display: none; }` but bootstrap.min.css set `[hidden] { display: none !important; }` so we also need the `!important` here to be able to override the default hidden behavior on the sphinx rendered scikit-learn.org. See: https://github.com/scikit-learn/scikit-learn/issues/21755 */display: inline-block !important;position: relative;}#sk-container-id-10 div.sk-text-repr-fallback {display: none;}</style><div id=\"sk-container-id-10\" class=\"sk-top-container\"><div class=\"sk-text-repr-fallback\"><pre>GridSearchCV(cv=5, estimator=MLPRegressor(), n_jobs=-1,\n",
              "             param_grid={&#x27;activation&#x27;: [&#x27;relu&#x27;, &#x27;tanh&#x27;, &#x27;sigmoid&#x27;],\n",
              "                         &#x27;hidden_layer_sizes&#x27;: [(5, 5), (5, 6), (5, 7), (5, 8),\n",
              "                                                (5, 9), (6, 5), (6, 6), (6, 7),\n",
              "                                                (6, 8), (6, 9), (7, 5), (7, 6),\n",
              "                                                (7, 7), (7, 8), (7, 9), (8, 5),\n",
              "                                                (8, 6), (8, 7), (8, 8), (8, 9),\n",
              "                                                (9, 5), (9, 6), (9, 7), (9, 8),\n",
              "                                                (9, 9)],\n",
              "                         &#x27;learning_rate&#x27;: [&#x27;constant&#x27;, &#x27;invscaling&#x27;,\n",
              "                                           &#x27;adaptive&#x27;]},\n",
              "             scoring=&#x27;neg_mean_absolute_error&#x27;, verbose=True)</pre><b>In a Jupyter environment, please rerun this cell to show the HTML representation or trust the notebook. <br />On GitHub, the HTML representation is unable to render, please try loading this page with nbviewer.org.</b></div><div class=\"sk-container\" hidden><div class=\"sk-item sk-dashed-wrapped\"><div class=\"sk-label-container\"><div class=\"sk-label sk-toggleable\"><input class=\"sk-toggleable__control sk-hidden--visually\" id=\"sk-estimator-id-12\" type=\"checkbox\" ><label for=\"sk-estimator-id-12\" class=\"sk-toggleable__label sk-toggleable__label-arrow\">GridSearchCV</label><div class=\"sk-toggleable__content\"><pre>GridSearchCV(cv=5, estimator=MLPRegressor(), n_jobs=-1,\n",
              "             param_grid={&#x27;activation&#x27;: [&#x27;relu&#x27;, &#x27;tanh&#x27;, &#x27;sigmoid&#x27;],\n",
              "                         &#x27;hidden_layer_sizes&#x27;: [(5, 5), (5, 6), (5, 7), (5, 8),\n",
              "                                                (5, 9), (6, 5), (6, 6), (6, 7),\n",
              "                                                (6, 8), (6, 9), (7, 5), (7, 6),\n",
              "                                                (7, 7), (7, 8), (7, 9), (8, 5),\n",
              "                                                (8, 6), (8, 7), (8, 8), (8, 9),\n",
              "                                                (9, 5), (9, 6), (9, 7), (9, 8),\n",
              "                                                (9, 9)],\n",
              "                         &#x27;learning_rate&#x27;: [&#x27;constant&#x27;, &#x27;invscaling&#x27;,\n",
              "                                           &#x27;adaptive&#x27;]},\n",
              "             scoring=&#x27;neg_mean_absolute_error&#x27;, verbose=True)</pre></div></div></div><div class=\"sk-parallel\"><div class=\"sk-parallel-item\"><div class=\"sk-item\"><div class=\"sk-label-container\"><div class=\"sk-label sk-toggleable\"><input class=\"sk-toggleable__control sk-hidden--visually\" id=\"sk-estimator-id-13\" type=\"checkbox\" ><label for=\"sk-estimator-id-13\" class=\"sk-toggleable__label sk-toggleable__label-arrow\">estimator: MLPRegressor</label><div class=\"sk-toggleable__content\"><pre>MLPRegressor()</pre></div></div></div><div class=\"sk-serial\"><div class=\"sk-item\"><div class=\"sk-estimator sk-toggleable\"><input class=\"sk-toggleable__control sk-hidden--visually\" id=\"sk-estimator-id-14\" type=\"checkbox\" ><label for=\"sk-estimator-id-14\" class=\"sk-toggleable__label sk-toggleable__label-arrow\">MLPRegressor</label><div class=\"sk-toggleable__content\"><pre>MLPRegressor()</pre></div></div></div></div></div></div></div></div></div></div>"
            ],
            "text/plain": [
              "GridSearchCV(cv=5, estimator=MLPRegressor(), n_jobs=-1,\n",
              "             param_grid={'activation': ['relu', 'tanh', 'sigmoid'],\n",
              "                         'hidden_layer_sizes': [(5, 5), (5, 6), (5, 7), (5, 8),\n",
              "                                                (5, 9), (6, 5), (6, 6), (6, 7),\n",
              "                                                (6, 8), (6, 9), (7, 5), (7, 6),\n",
              "                                                (7, 7), (7, 8), (7, 9), (8, 5),\n",
              "                                                (8, 6), (8, 7), (8, 8), (8, 9),\n",
              "                                                (9, 5), (9, 6), (9, 7), (9, 8),\n",
              "                                                (9, 9)],\n",
              "                         'learning_rate': ['constant', 'invscaling',\n",
              "                                           'adaptive']},\n",
              "             scoring='neg_mean_absolute_error', verbose=True)"
            ]
          },
          "execution_count": 148,
          "metadata": {},
          "output_type": "execute_result"
        }
      ],
      "source": [
        "grid.fit(Z,y01['target'])"
      ]
    },
    {
      "cell_type": "code",
      "execution_count": null,
      "metadata": {
        "id": "ZIhsrwz-lQQs",
        "outputId": "f4ccc5d8-ab4b-4561-fb82-6a5a738d9a68"
      },
      "outputs": [
        {
          "data": {
            "text/html": [
              "<style>#sk-container-id-11 {color: black;background-color: white;}#sk-container-id-11 pre{padding: 0;}#sk-container-id-11 div.sk-toggleable {background-color: white;}#sk-container-id-11 label.sk-toggleable__label {cursor: pointer;display: block;width: 100%;margin-bottom: 0;padding: 0.3em;box-sizing: border-box;text-align: center;}#sk-container-id-11 label.sk-toggleable__label-arrow:before {content: \"▸\";float: left;margin-right: 0.25em;color: #696969;}#sk-container-id-11 label.sk-toggleable__label-arrow:hover:before {color: black;}#sk-container-id-11 div.sk-estimator:hover label.sk-toggleable__label-arrow:before {color: black;}#sk-container-id-11 div.sk-toggleable__content {max-height: 0;max-width: 0;overflow: hidden;text-align: left;background-color: #f0f8ff;}#sk-container-id-11 div.sk-toggleable__content pre {margin: 0.2em;color: black;border-radius: 0.25em;background-color: #f0f8ff;}#sk-container-id-11 input.sk-toggleable__control:checked~div.sk-toggleable__content {max-height: 200px;max-width: 100%;overflow: auto;}#sk-container-id-11 input.sk-toggleable__control:checked~label.sk-toggleable__label-arrow:before {content: \"▾\";}#sk-container-id-11 div.sk-estimator input.sk-toggleable__control:checked~label.sk-toggleable__label {background-color: #d4ebff;}#sk-container-id-11 div.sk-label input.sk-toggleable__control:checked~label.sk-toggleable__label {background-color: #d4ebff;}#sk-container-id-11 input.sk-hidden--visually {border: 0;clip: rect(1px 1px 1px 1px);clip: rect(1px, 1px, 1px, 1px);height: 1px;margin: -1px;overflow: hidden;padding: 0;position: absolute;width: 1px;}#sk-container-id-11 div.sk-estimator {font-family: monospace;background-color: #f0f8ff;border: 1px dotted black;border-radius: 0.25em;box-sizing: border-box;margin-bottom: 0.5em;}#sk-container-id-11 div.sk-estimator:hover {background-color: #d4ebff;}#sk-container-id-11 div.sk-parallel-item::after {content: \"\";width: 100%;border-bottom: 1px solid gray;flex-grow: 1;}#sk-container-id-11 div.sk-label:hover label.sk-toggleable__label {background-color: #d4ebff;}#sk-container-id-11 div.sk-serial::before {content: \"\";position: absolute;border-left: 1px solid gray;box-sizing: border-box;top: 0;bottom: 0;left: 50%;z-index: 0;}#sk-container-id-11 div.sk-serial {display: flex;flex-direction: column;align-items: center;background-color: white;padding-right: 0.2em;padding-left: 0.2em;position: relative;}#sk-container-id-11 div.sk-item {position: relative;z-index: 1;}#sk-container-id-11 div.sk-parallel {display: flex;align-items: stretch;justify-content: center;background-color: white;position: relative;}#sk-container-id-11 div.sk-item::before, #sk-container-id-11 div.sk-parallel-item::before {content: \"\";position: absolute;border-left: 1px solid gray;box-sizing: border-box;top: 0;bottom: 0;left: 50%;z-index: -1;}#sk-container-id-11 div.sk-parallel-item {display: flex;flex-direction: column;z-index: 1;position: relative;background-color: white;}#sk-container-id-11 div.sk-parallel-item:first-child::after {align-self: flex-end;width: 50%;}#sk-container-id-11 div.sk-parallel-item:last-child::after {align-self: flex-start;width: 50%;}#sk-container-id-11 div.sk-parallel-item:only-child::after {width: 0;}#sk-container-id-11 div.sk-dashed-wrapped {border: 1px dashed gray;margin: 0 0.4em 0.5em 0.4em;box-sizing: border-box;padding-bottom: 0.4em;background-color: white;}#sk-container-id-11 div.sk-label label {font-family: monospace;font-weight: bold;display: inline-block;line-height: 1.2em;}#sk-container-id-11 div.sk-label-container {text-align: center;}#sk-container-id-11 div.sk-container {/* jupyter's `normalize.less` sets `[hidden] { display: none; }` but bootstrap.min.css set `[hidden] { display: none !important; }` so we also need the `!important` here to be able to override the default hidden behavior on the sphinx rendered scikit-learn.org. See: https://github.com/scikit-learn/scikit-learn/issues/21755 */display: inline-block !important;position: relative;}#sk-container-id-11 div.sk-text-repr-fallback {display: none;}</style><div id=\"sk-container-id-11\" class=\"sk-top-container\"><div class=\"sk-text-repr-fallback\"><pre>MLPRegressor(hidden_layer_sizes=(8, 7), learning_rate=&#x27;invscaling&#x27;)</pre><b>In a Jupyter environment, please rerun this cell to show the HTML representation or trust the notebook. <br />On GitHub, the HTML representation is unable to render, please try loading this page with nbviewer.org.</b></div><div class=\"sk-container\" hidden><div class=\"sk-item\"><div class=\"sk-estimator sk-toggleable\"><input class=\"sk-toggleable__control sk-hidden--visually\" id=\"sk-estimator-id-15\" type=\"checkbox\" checked><label for=\"sk-estimator-id-15\" class=\"sk-toggleable__label sk-toggleable__label-arrow\">MLPRegressor</label><div class=\"sk-toggleable__content\"><pre>MLPRegressor(hidden_layer_sizes=(8, 7), learning_rate=&#x27;invscaling&#x27;)</pre></div></div></div></div></div>"
            ],
            "text/plain": [
              "MLPRegressor(hidden_layer_sizes=(8, 7), learning_rate='invscaling')"
            ]
          },
          "execution_count": 149,
          "metadata": {},
          "output_type": "execute_result"
        }
      ],
      "source": [
        "ann = grid.best_estimator_\n",
        "ann"
      ]
    },
    {
      "cell_type": "code",
      "execution_count": null,
      "metadata": {
        "id": "khWc_ISolQQt",
        "outputId": "47d9b1b6-31f4-48d8-9f1f-492bb205a4c6"
      },
      "outputs": [
        {
          "data": {
            "text/plain": [
              "-0.005176309967286721"
            ]
          },
          "execution_count": 150,
          "metadata": {},
          "output_type": "execute_result"
        }
      ],
      "source": [
        "grid.best_score_"
      ]
    },
    {
      "cell_type": "markdown",
      "metadata": {
        "id": "O8eTMMRFlQQt"
      },
      "source": [
        "### Parámetros $\\vec{\\theta}$"
      ]
    },
    {
      "cell_type": "code",
      "execution_count": null,
      "metadata": {
        "id": "dk79BJpRlQQt",
        "outputId": "4d04d023-6e78-43b0-a59c-a28c99561a22"
      },
      "outputs": [
        {
          "data": {
            "text/html": [
              "<style>#sk-container-id-12 {color: black;background-color: white;}#sk-container-id-12 pre{padding: 0;}#sk-container-id-12 div.sk-toggleable {background-color: white;}#sk-container-id-12 label.sk-toggleable__label {cursor: pointer;display: block;width: 100%;margin-bottom: 0;padding: 0.3em;box-sizing: border-box;text-align: center;}#sk-container-id-12 label.sk-toggleable__label-arrow:before {content: \"▸\";float: left;margin-right: 0.25em;color: #696969;}#sk-container-id-12 label.sk-toggleable__label-arrow:hover:before {color: black;}#sk-container-id-12 div.sk-estimator:hover label.sk-toggleable__label-arrow:before {color: black;}#sk-container-id-12 div.sk-toggleable__content {max-height: 0;max-width: 0;overflow: hidden;text-align: left;background-color: #f0f8ff;}#sk-container-id-12 div.sk-toggleable__content pre {margin: 0.2em;color: black;border-radius: 0.25em;background-color: #f0f8ff;}#sk-container-id-12 input.sk-toggleable__control:checked~div.sk-toggleable__content {max-height: 200px;max-width: 100%;overflow: auto;}#sk-container-id-12 input.sk-toggleable__control:checked~label.sk-toggleable__label-arrow:before {content: \"▾\";}#sk-container-id-12 div.sk-estimator input.sk-toggleable__control:checked~label.sk-toggleable__label {background-color: #d4ebff;}#sk-container-id-12 div.sk-label input.sk-toggleable__control:checked~label.sk-toggleable__label {background-color: #d4ebff;}#sk-container-id-12 input.sk-hidden--visually {border: 0;clip: rect(1px 1px 1px 1px);clip: rect(1px, 1px, 1px, 1px);height: 1px;margin: -1px;overflow: hidden;padding: 0;position: absolute;width: 1px;}#sk-container-id-12 div.sk-estimator {font-family: monospace;background-color: #f0f8ff;border: 1px dotted black;border-radius: 0.25em;box-sizing: border-box;margin-bottom: 0.5em;}#sk-container-id-12 div.sk-estimator:hover {background-color: #d4ebff;}#sk-container-id-12 div.sk-parallel-item::after {content: \"\";width: 100%;border-bottom: 1px solid gray;flex-grow: 1;}#sk-container-id-12 div.sk-label:hover label.sk-toggleable__label {background-color: #d4ebff;}#sk-container-id-12 div.sk-serial::before {content: \"\";position: absolute;border-left: 1px solid gray;box-sizing: border-box;top: 0;bottom: 0;left: 50%;z-index: 0;}#sk-container-id-12 div.sk-serial {display: flex;flex-direction: column;align-items: center;background-color: white;padding-right: 0.2em;padding-left: 0.2em;position: relative;}#sk-container-id-12 div.sk-item {position: relative;z-index: 1;}#sk-container-id-12 div.sk-parallel {display: flex;align-items: stretch;justify-content: center;background-color: white;position: relative;}#sk-container-id-12 div.sk-item::before, #sk-container-id-12 div.sk-parallel-item::before {content: \"\";position: absolute;border-left: 1px solid gray;box-sizing: border-box;top: 0;bottom: 0;left: 50%;z-index: -1;}#sk-container-id-12 div.sk-parallel-item {display: flex;flex-direction: column;z-index: 1;position: relative;background-color: white;}#sk-container-id-12 div.sk-parallel-item:first-child::after {align-self: flex-end;width: 50%;}#sk-container-id-12 div.sk-parallel-item:last-child::after {align-self: flex-start;width: 50%;}#sk-container-id-12 div.sk-parallel-item:only-child::after {width: 0;}#sk-container-id-12 div.sk-dashed-wrapped {border: 1px dashed gray;margin: 0 0.4em 0.5em 0.4em;box-sizing: border-box;padding-bottom: 0.4em;background-color: white;}#sk-container-id-12 div.sk-label label {font-family: monospace;font-weight: bold;display: inline-block;line-height: 1.2em;}#sk-container-id-12 div.sk-label-container {text-align: center;}#sk-container-id-12 div.sk-container {/* jupyter's `normalize.less` sets `[hidden] { display: none; }` but bootstrap.min.css set `[hidden] { display: none !important; }` so we also need the `!important` here to be able to override the default hidden behavior on the sphinx rendered scikit-learn.org. See: https://github.com/scikit-learn/scikit-learn/issues/21755 */display: inline-block !important;position: relative;}#sk-container-id-12 div.sk-text-repr-fallback {display: none;}</style><div id=\"sk-container-id-12\" class=\"sk-top-container\"><div class=\"sk-text-repr-fallback\"><pre>MLPRegressor(hidden_layer_sizes=(8, 7), learning_rate=&#x27;invscaling&#x27;)</pre><b>In a Jupyter environment, please rerun this cell to show the HTML representation or trust the notebook. <br />On GitHub, the HTML representation is unable to render, please try loading this page with nbviewer.org.</b></div><div class=\"sk-container\" hidden><div class=\"sk-item\"><div class=\"sk-estimator sk-toggleable\"><input class=\"sk-toggleable__control sk-hidden--visually\" id=\"sk-estimator-id-16\" type=\"checkbox\" checked><label for=\"sk-estimator-id-16\" class=\"sk-toggleable__label sk-toggleable__label-arrow\">MLPRegressor</label><div class=\"sk-toggleable__content\"><pre>MLPRegressor(hidden_layer_sizes=(8, 7), learning_rate=&#x27;invscaling&#x27;)</pre></div></div></div></div></div>"
            ],
            "text/plain": [
              "MLPRegressor(hidden_layer_sizes=(8, 7), learning_rate='invscaling')"
            ]
          },
          "execution_count": 151,
          "metadata": {},
          "output_type": "execute_result"
        }
      ],
      "source": [
        "ann.fit(Z,y01['target'])"
      ]
    },
    {
      "cell_type": "code",
      "execution_count": null,
      "metadata": {
        "id": "LWzoQ2jOlQQt",
        "outputId": "969dae06-747f-4085-d2f5-05e676f8a9e4"
      },
      "outputs": [
        {
          "data": {
            "text/plain": [
              "[array([[ 4.48360666e-01,  3.03342885e-01, -8.42211708e-02,\n",
              "          2.31533015e-01,  6.48580927e-01, -7.30918639e-01,\n",
              "          6.76089583e-30,  1.51098160e-04],\n",
              "        [-4.98692432e-01, -5.55100750e-01, -3.17836665e-01,\n",
              "          5.76400688e-01, -3.63941923e-01, -2.22770168e-01,\n",
              "         -3.89836034e-06, -3.19784483e-04],\n",
              "        [ 3.20573038e-01,  2.25327523e-01,  1.23254844e-01,\n",
              "          5.53004795e-01, -4.35871382e-01, -1.09799502e-01,\n",
              "         -6.44624654e-04, -4.79567327e-08]]),\n",
              " array([[ 4.84204872e-12,  2.30571009e-01,  2.73230770e-06,\n",
              "          1.85243389e-02,  7.69844616e-05,  3.79853380e-01,\n",
              "         -5.76798908e-02],\n",
              "        [ 5.33051526e-06,  2.41769994e-01, -1.65996041e-22,\n",
              "          1.02071772e-01, -2.65440847e-09,  1.48206847e-01,\n",
              "          5.49932885e-01],\n",
              "        [-3.75924123e-04,  4.90333202e-01,  1.03334763e-07,\n",
              "          6.53873790e-01, -1.94603363e-46,  2.71306869e-01,\n",
              "         -5.09597039e-02],\n",
              "        [-1.20993482e-05, -3.45289510e-01, -7.67474249e-33,\n",
              "          6.52914698e-02, -1.77186431e-07,  2.00572138e-01,\n",
              "         -1.67089091e-01],\n",
              "        [-3.19073173e-35, -1.61132147e-05,  4.75377179e-34,\n",
              "          2.16489045e-02,  6.97954619e-15,  2.01412830e-01,\n",
              "          1.71944809e-02],\n",
              "        [ 1.75217187e-31,  1.51829964e-01,  2.00859130e-07,\n",
              "          3.32309927e-01,  2.80965108e-19,  5.80585545e-02,\n",
              "         -3.65407209e-01],\n",
              "        [-1.45765494e-05,  2.21162409e-09,  1.09883860e-15,\n",
              "          5.41203654e-41, -1.08129007e-07,  1.32061137e-12,\n",
              "          1.16617625e-07],\n",
              "        [ 1.81540705e-14,  3.29090120e-10, -3.72706281e-24,\n",
              "          5.71806190e-30,  5.00434561e-07,  2.71596280e-13,\n",
              "          2.72024517e-05]]),\n",
              " array([[ 3.04174533e-05],\n",
              "        [-9.30805733e-01],\n",
              "        [-7.23822334e-04],\n",
              "        [-6.42011376e-01],\n",
              "        [-1.05669143e-08],\n",
              "        [ 7.71945649e-01],\n",
              "        [-7.12001697e-01]])]"
            ]
          },
          "execution_count": 152,
          "metadata": {},
          "output_type": "execute_result"
        }
      ],
      "source": [
        "ann.coefs_"
      ]
    },
    {
      "cell_type": "markdown",
      "metadata": {
        "id": "x6KEL06wlQQt"
      },
      "source": [
        "### Métricas de ajuste"
      ]
    },
    {
      "cell_type": "code",
      "execution_count": null,
      "metadata": {
        "id": "YbCU08VJlQQt"
      },
      "outputs": [],
      "source": [
        "Zv = pd.DataFrame(pipe.transform(valid[best]))"
      ]
    },
    {
      "cell_type": "code",
      "execution_count": null,
      "metadata": {
        "id": "mj1Vn8G4lQQt",
        "outputId": "2590c55d-8a33-4e3a-ecd3-c284f05faff5"
      },
      "outputs": [
        {
          "name": "stdout",
          "output_type": "stream",
          "text": [
            "0.9978588780778571\n",
            "39.75453257108762\n",
            "3804.5011118071748\n"
          ]
        }
      ],
      "source": [
        "print(mean_absolute_percentage_error(y_true=scy.inverse_transform(ann.predict(Z).reshape(-1,1)),y_pred=y01))\n",
        "print(mean_absolute_error(y_true=scy.inverse_transform(ann.predict(Z).reshape(-1,1)),y_pred=y01))\n",
        "print(mean_squared_error(y_true=scy.inverse_transform(ann.predict(Z).reshape(-1,1)),y_pred=y01))"
      ]
    },
    {
      "cell_type": "code",
      "execution_count": null,
      "metadata": {
        "id": "jtX8kVinlQQt",
        "outputId": "4a61fc1d-1e80-4f81-aee0-143aaa9282db"
      },
      "outputs": [
        {
          "name": "stdout",
          "output_type": "stream",
          "text": [
            "0.2131991500111386\n",
            "14.272062411751245\n",
            "8303.02513127518\n"
          ]
        }
      ],
      "source": [
        "print(mean_absolute_percentage_error(y_true=scy.inverse_transform(ann.predict(Zv).reshape(-1,1)),y_pred=valid['target']))\n",
        "print(mean_absolute_error(y_true=scy.inverse_transform(ann.predict(Zv).reshape(-1,1)),y_pred=valid['target']))\n",
        "print(mean_squared_error(y_true=scy.inverse_transform(ann.predict(Zv).reshape(-1,1)),y_pred=valid['target']))"
      ]
    },
    {
      "cell_type": "code",
      "execution_count": null,
      "metadata": {
        "id": "Su2DsvKWlQQu"
      },
      "outputs": [],
      "source": [
        "train['y^'] = scy.inverse_transform(ann.predict(Z).reshape(-1,1))\n",
        "valid['y^'] = scy.inverse_transform(ann.predict(Zv).reshape(-1,1))"
      ]
    },
    {
      "cell_type": "code",
      "execution_count": null,
      "metadata": {
        "id": "yUY7-7IGlQQu",
        "outputId": "152ef796-b8b1-44dc-c049-c59b381336ca"
      },
      "outputs": [
        {
          "data": {
            "text/plain": [
              "<Axes: ylabel='Density'>"
            ]
          },
          "execution_count": 167,
          "metadata": {},
          "output_type": "execute_result"
        },
        {
          "data": {
            "image/png": "[encoded data removed]",
            "text/plain": [
              "<Figure size 640x480 with 1 Axes>"
            ]
          },
          "metadata": {},
          "output_type": "display_data"
        }
      ],
      "source": [
        "plt.figure()\n",
        "sns.kdeplot(train[['target','y^']])"
      ]
    },
    {
      "cell_type": "code",
      "execution_count": null,
      "metadata": {
        "id": "fl88xqFslQQu",
        "outputId": "0f4c7fd5-68de-46b3-c9b5-82d8dd1c2af0"
      },
      "outputs": [
        {
          "data": {
            "text/plain": [
              "<Axes: ylabel='Density'>"
            ]
          },
          "execution_count": 168,
          "metadata": {},
          "output_type": "execute_result"
        },
        {
          "data": {
            "image/png": "[encoded data removed]",
            "text/plain": [
              "<Figure size 640x480 with 1 Axes>"
            ]
          },
          "metadata": {},
          "output_type": "display_data"
        }
      ],
      "source": [
        "plt.figure()\n",
        "sns.kdeplot(valid[['target','y^']])"
      ]
    },
    {
      "cell_type": "code",
      "execution_count": null,
      "metadata": {
        "id": "ZEtZbRe-lQQu"
      },
      "outputs": [],
      "source": []
    }
  ],
  "metadata": {
    "kernelspec": {
      "display_name": "tsc2",
      "language": "python",
      "name": "python3"
    },
    "language_info": {
      "codemirror_mode": {
        "name": "ipython",
        "version": 3
      },
      "file_extension": ".py",
      "mimetype": "text/x-python",
      "name": "python",
      "nbconvert_exporter": "python",
      "pygments_lexer": "ipython3",
      "version": "3.10.6"
    },
    "orig_nbformat": 4,
    "vscode": {
      "interpreter": {
        "hash": "59fa51d32ca29b36fb686fd99134a6e2b71b010ade65b5568db3bd8092620215"
      }
    },
    "colab": {
      "provenance": [],
      "include_colab_link": true
    }
  },
  "nbformat": 4,
  "nbformat_minor": 0
}